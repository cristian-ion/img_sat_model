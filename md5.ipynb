{
 "cells": [
  {
   "cell_type": "code",
   "execution_count": 1,
   "metadata": {},
   "outputs": [],
   "source": [
    "import hashlib\n",
    "from os import listdir\n",
    "import pandas as pd\n",
    "\n",
    "def get_md5(file_name):\n",
    "    return hashlib.md5(open(str(file_name), 'rb').read()).hexdigest()\n",
    "\n",
    "\n",
    "def filelist_hash(filelist):\n",
    "    mapping = {}\n",
    "    for f in filelist:\n",
    "        h = get_md5(f)\n",
    "        if h not in mapping:\n",
    "            mapping[h] = []\n",
    "        mapping[h].append(f)\n",
    "    return mapping\n",
    "\n",
    "\n",
    "data_dev = \"data_dev\"\n",
    "\n",
    "dir_list = listdir(data_dev)\n",
    "\n",
    "files = [f\"{data_dev}/{f}\" for f in dir_list]\n",
    "\n",
    "mapping = filelist_hash(files)"
   ]
  },
  {
   "cell_type": "code",
   "execution_count": 6,
   "metadata": {},
   "outputs": [
    {
     "name": "stdout",
     "output_type": "stream",
     "text": [
      "Check md5.\n",
      "Done.\n"
     ]
    }
   ],
   "source": [
    "print(\"Check md5.\")\n",
    "count = {}\n",
    "for k, v in mapping.items():\n",
    "    count[k] = len(v)\n",
    "\n",
    "for k, v in count.items():\n",
    "    if v > 1:\n",
    "        print(v)\n",
    "print(\"Done.\")"
   ]
  },
  {
   "cell_type": "code",
   "execution_count": null,
   "metadata": {},
   "outputs": [],
   "source": []
  }
 ],
 "metadata": {
  "kernelspec": {
   "display_name": ".venv",
   "language": "python",
   "name": "python3"
  },
  "language_info": {
   "codemirror_mode": {
    "name": "ipython",
    "version": 3
   },
   "file_extension": ".py",
   "mimetype": "text/x-python",
   "name": "python",
   "nbconvert_exporter": "python",
   "pygments_lexer": "ipython3",
   "version": "3.11.1"
  },
  "orig_nbformat": 4
 },
 "nbformat": 4,
 "nbformat_minor": 2
}
