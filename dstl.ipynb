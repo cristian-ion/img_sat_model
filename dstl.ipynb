{
 "cells": [
  {
   "attachments": {},
   "cell_type": "markdown",
   "metadata": {},
   "source": [
    "# DSTL Competition (2017)\n",
    "\n",
    "- 3 band and 16 bands\n",
    "- inputs are from satellite imagery\n",
    "- as alege acest set de date deoarece se aseeamana mai mult cu o situatie reala"
   ]
  },
  {
   "attachments": {},
   "cell_type": "markdown",
   "metadata": {},
   "source": [
    "### Well-Known Text (WKT)\n",
    "Well-Known Text (WKT) is an ASCII representation of a spatial object.\n",
    "\n",
    "WKTs are not case sensitive; Vertica recognizes any combination of lowercase and uppercase letters.\n",
    "\n",
    "References:\n",
    "https://www.vertica.com/docs/9.3.x/HTML/Content/Authoring/AnalyzingData/Geospatial/Spatial_Definitions/WellknownTextWKT.htm"
   ]
  },
  {
   "attachments": {},
   "cell_type": "markdown",
   "metadata": {},
   "source": [
    "# Imports"
   ]
  },
  {
   "cell_type": "code",
   "execution_count": 1,
   "metadata": {},
   "outputs": [],
   "source": [
    "import pandas as pd\n",
    "import tifffile as tiff\n",
    "import seaborn as sns\n",
    "import lib\n",
    "import json\n",
    "import geojson\n",
    "import shapely"
   ]
  },
  {
   "attachments": {},
   "cell_type": "markdown",
   "metadata": {},
   "source": [
    "# Globals"
   ]
  },
  {
   "cell_type": "code",
   "execution_count": 2,
   "metadata": {},
   "outputs": [],
   "source": [
    "ROOTDIR = \"dstl\"\n",
    "TRAINWKT_FILE = \"dstl/train_wkt_v4.csv\"\n",
    "GRIDSIZE_FILE = \"dstl/grid_sizes.csv\"\n",
    "BANDDIR_3 = \"dstl/three_band\"\n",
    "BANDDIR_16 = \"dstl/sixteen_band\"\n",
    "\n",
    "import enum\n",
    "\n",
    "class Vars(enum.Enum):\n",
    "    mpgwkt = \"MultipolygonWKT\"\n",
    "    classes = \"ClassType\"\n",
    "    imageid = \"ImageId\"\n",
    "    xmax = \"Xmax\"\n",
    "    ymin = \"Ymin\"\n"
   ]
  },
  {
   "cell_type": "code",
   "execution_count": 3,
   "metadata": {},
   "outputs": [
    {
     "data": {
      "text/plain": [
       "<Vars.mpgwkt: 'MultipolygonWKT'>"
      ]
     },
     "execution_count": 3,
     "metadata": {},
     "output_type": "execute_result"
    }
   ],
   "source": [
    "Vars.mpgwkt"
   ]
  },
  {
   "attachments": {},
   "cell_type": "markdown",
   "metadata": {},
   "source": [
    "# Load datasets"
   ]
  },
  {
   "cell_type": "code",
   "execution_count": 4,
   "metadata": {},
   "outputs": [],
   "source": [
    "wkt = pd.read_csv(TRAINWKT_FILE)\n",
    "gs = pd.read_csv(GRIDSIZE_FILE)"
   ]
  },
  {
   "cell_type": "code",
   "execution_count": 5,
   "metadata": {},
   "outputs": [],
   "source": [
    "gs.rename(columns={'Unnamed: 0': Vars.imageid.value}, inplace=True)"
   ]
  },
  {
   "cell_type": "code",
   "execution_count": 6,
   "metadata": {},
   "outputs": [
    {
     "name": "stdout",
     "output_type": "stream",
     "text": [
      "<class 'pandas.core.frame.DataFrame'>\n",
      "RangeIndex: 450 entries, 0 to 449\n",
      "Data columns (total 3 columns):\n",
      " #   Column   Non-Null Count  Dtype  \n",
      "---  ------   --------------  -----  \n",
      " 0   ImageId  450 non-null    object \n",
      " 1   Xmax     450 non-null    float64\n",
      " 2   Ymin     450 non-null    float64\n",
      "dtypes: float64(2), object(1)\n",
      "memory usage: 10.7+ KB\n"
     ]
    }
   ],
   "source": [
    "gs.info()"
   ]
  },
  {
   "cell_type": "code",
   "execution_count": 7,
   "metadata": {},
   "outputs": [
    {
     "data": {
      "text/html": [
       "<div>\n",
       "<style scoped>\n",
       "    .dataframe tbody tr th:only-of-type {\n",
       "        vertical-align: middle;\n",
       "    }\n",
       "\n",
       "    .dataframe tbody tr th {\n",
       "        vertical-align: top;\n",
       "    }\n",
       "\n",
       "    .dataframe thead th {\n",
       "        text-align: right;\n",
       "    }\n",
       "</style>\n",
       "<table border=\"1\" class=\"dataframe\">\n",
       "  <thead>\n",
       "    <tr style=\"text-align: right;\">\n",
       "      <th></th>\n",
       "      <th>ImageId</th>\n",
       "      <th>Xmax</th>\n",
       "      <th>Ymin</th>\n",
       "    </tr>\n",
       "  </thead>\n",
       "  <tbody>\n",
       "    <tr>\n",
       "      <th>0</th>\n",
       "      <td>6120_2_4</td>\n",
       "      <td>0.009180</td>\n",
       "      <td>-0.00904</td>\n",
       "    </tr>\n",
       "    <tr>\n",
       "      <th>1</th>\n",
       "      <td>6120_2_3</td>\n",
       "      <td>0.009169</td>\n",
       "      <td>-0.00904</td>\n",
       "    </tr>\n",
       "    <tr>\n",
       "      <th>2</th>\n",
       "      <td>6120_2_2</td>\n",
       "      <td>0.009188</td>\n",
       "      <td>-0.00904</td>\n",
       "    </tr>\n",
       "    <tr>\n",
       "      <th>3</th>\n",
       "      <td>6120_2_1</td>\n",
       "      <td>0.009188</td>\n",
       "      <td>-0.00904</td>\n",
       "    </tr>\n",
       "    <tr>\n",
       "      <th>4</th>\n",
       "      <td>6120_2_0</td>\n",
       "      <td>0.009188</td>\n",
       "      <td>-0.00904</td>\n",
       "    </tr>\n",
       "  </tbody>\n",
       "</table>\n",
       "</div>"
      ],
      "text/plain": [
       "    ImageId      Xmax     Ymin\n",
       "0  6120_2_4  0.009180 -0.00904\n",
       "1  6120_2_3  0.009169 -0.00904\n",
       "2  6120_2_2  0.009188 -0.00904\n",
       "3  6120_2_1  0.009188 -0.00904\n",
       "4  6120_2_0  0.009188 -0.00904"
      ]
     },
     "execution_count": 7,
     "metadata": {},
     "output_type": "execute_result"
    }
   ],
   "source": [
    "gs.head()"
   ]
  },
  {
   "cell_type": "code",
   "execution_count": 8,
   "metadata": {},
   "outputs": [
    {
     "data": {
      "text/html": [
       "<div>\n",
       "<style scoped>\n",
       "    .dataframe tbody tr th:only-of-type {\n",
       "        vertical-align: middle;\n",
       "    }\n",
       "\n",
       "    .dataframe tbody tr th {\n",
       "        vertical-align: top;\n",
       "    }\n",
       "\n",
       "    .dataframe thead th {\n",
       "        text-align: right;\n",
       "    }\n",
       "</style>\n",
       "<table border=\"1\" class=\"dataframe\">\n",
       "  <thead>\n",
       "    <tr style=\"text-align: right;\">\n",
       "      <th></th>\n",
       "      <th>count</th>\n",
       "      <th>mean</th>\n",
       "      <th>std</th>\n",
       "      <th>min</th>\n",
       "      <th>25%</th>\n",
       "      <th>50%</th>\n",
       "      <th>75%</th>\n",
       "      <th>max</th>\n",
       "    </tr>\n",
       "  </thead>\n",
       "  <tbody>\n",
       "    <tr>\n",
       "      <th>Xmax</th>\n",
       "      <td>450.0</td>\n",
       "      <td>0.009153</td>\n",
       "      <td>0.000052</td>\n",
       "      <td>0.009004</td>\n",
       "      <td>0.009156</td>\n",
       "      <td>0.009169</td>\n",
       "      <td>0.009188</td>\n",
       "      <td>0.009188</td>\n",
       "    </tr>\n",
       "    <tr>\n",
       "      <th>Ymin</th>\n",
       "      <td>450.0</td>\n",
       "      <td>-0.009040</td>\n",
       "      <td>0.000003</td>\n",
       "      <td>-0.009045</td>\n",
       "      <td>-0.009042</td>\n",
       "      <td>-0.009040</td>\n",
       "      <td>-0.009040</td>\n",
       "      <td>-0.009031</td>\n",
       "    </tr>\n",
       "  </tbody>\n",
       "</table>\n",
       "</div>"
      ],
      "text/plain": [
       "      count      mean       std       min       25%       50%       75%  \\\n",
       "Xmax  450.0  0.009153  0.000052  0.009004  0.009156  0.009169  0.009188   \n",
       "Ymin  450.0 -0.009040  0.000003 -0.009045 -0.009042 -0.009040 -0.009040   \n",
       "\n",
       "           max  \n",
       "Xmax  0.009188  \n",
       "Ymin -0.009031  "
      ]
     },
     "execution_count": 8,
     "metadata": {},
     "output_type": "execute_result"
    }
   ],
   "source": [
    "gs.describe().T"
   ]
  },
  {
   "cell_type": "code",
   "execution_count": 9,
   "metadata": {},
   "outputs": [],
   "source": [
    "wkt = pd.merge(left=wkt, right=gs, on=Vars.imageid.value)"
   ]
  },
  {
   "cell_type": "code",
   "execution_count": 10,
   "metadata": {},
   "outputs": [
    {
     "data": {
      "text/html": [
       "<div>\n",
       "<style scoped>\n",
       "    .dataframe tbody tr th:only-of-type {\n",
       "        vertical-align: middle;\n",
       "    }\n",
       "\n",
       "    .dataframe tbody tr th {\n",
       "        vertical-align: top;\n",
       "    }\n",
       "\n",
       "    .dataframe thead th {\n",
       "        text-align: right;\n",
       "    }\n",
       "</style>\n",
       "<table border=\"1\" class=\"dataframe\">\n",
       "  <thead>\n",
       "    <tr style=\"text-align: right;\">\n",
       "      <th></th>\n",
       "      <th>ImageId</th>\n",
       "      <th>ClassType</th>\n",
       "      <th>MultipolygonWKT</th>\n",
       "      <th>Xmax</th>\n",
       "      <th>Ymin</th>\n",
       "    </tr>\n",
       "  </thead>\n",
       "  <tbody>\n",
       "    <tr>\n",
       "      <th>0</th>\n",
       "      <td>6040_2_2</td>\n",
       "      <td>1</td>\n",
       "      <td>MULTIPOLYGON EMPTY</td>\n",
       "      <td>0.009158</td>\n",
       "      <td>-0.009043</td>\n",
       "    </tr>\n",
       "    <tr>\n",
       "      <th>1</th>\n",
       "      <td>6040_2_2</td>\n",
       "      <td>2</td>\n",
       "      <td>MULTIPOLYGON EMPTY</td>\n",
       "      <td>0.009158</td>\n",
       "      <td>-0.009043</td>\n",
       "    </tr>\n",
       "    <tr>\n",
       "      <th>2</th>\n",
       "      <td>6040_2_2</td>\n",
       "      <td>3</td>\n",
       "      <td>MULTIPOLYGON EMPTY</td>\n",
       "      <td>0.009158</td>\n",
       "      <td>-0.009043</td>\n",
       "    </tr>\n",
       "    <tr>\n",
       "      <th>3</th>\n",
       "      <td>6040_2_2</td>\n",
       "      <td>4</td>\n",
       "      <td>MULTIPOLYGON (((0.003025 -0.007879000000000001...</td>\n",
       "      <td>0.009158</td>\n",
       "      <td>-0.009043</td>\n",
       "    </tr>\n",
       "    <tr>\n",
       "      <th>4</th>\n",
       "      <td>6040_2_2</td>\n",
       "      <td>5</td>\n",
       "      <td>MULTIPOLYGON (((0.005311 -0.009044999999999999...</td>\n",
       "      <td>0.009158</td>\n",
       "      <td>-0.009043</td>\n",
       "    </tr>\n",
       "  </tbody>\n",
       "</table>\n",
       "</div>"
      ],
      "text/plain": [
       "    ImageId  ClassType                                    MultipolygonWKT  \\\n",
       "0  6040_2_2          1                                 MULTIPOLYGON EMPTY   \n",
       "1  6040_2_2          2                                 MULTIPOLYGON EMPTY   \n",
       "2  6040_2_2          3                                 MULTIPOLYGON EMPTY   \n",
       "3  6040_2_2          4  MULTIPOLYGON (((0.003025 -0.007879000000000001...   \n",
       "4  6040_2_2          5  MULTIPOLYGON (((0.005311 -0.009044999999999999...   \n",
       "\n",
       "       Xmax      Ymin  \n",
       "0  0.009158 -0.009043  \n",
       "1  0.009158 -0.009043  \n",
       "2  0.009158 -0.009043  \n",
       "3  0.009158 -0.009043  \n",
       "4  0.009158 -0.009043  "
      ]
     },
     "execution_count": 10,
     "metadata": {},
     "output_type": "execute_result"
    }
   ],
   "source": [
    "wkt.head()"
   ]
  },
  {
   "cell_type": "code",
   "execution_count": 11,
   "metadata": {},
   "outputs": [
    {
     "name": "stdout",
     "output_type": "stream",
     "text": [
      "<class 'pandas.core.frame.DataFrame'>\n",
      "Int64Index: 250 entries, 0 to 249\n",
      "Data columns (total 5 columns):\n",
      " #   Column           Non-Null Count  Dtype  \n",
      "---  ------           --------------  -----  \n",
      " 0   ImageId          250 non-null    object \n",
      " 1   ClassType        250 non-null    int64  \n",
      " 2   MultipolygonWKT  250 non-null    object \n",
      " 3   Xmax             250 non-null    float64\n",
      " 4   Ymin             250 non-null    float64\n",
      "dtypes: float64(2), int64(1), object(2)\n",
      "memory usage: 11.7+ KB\n"
     ]
    }
   ],
   "source": [
    "wkt.info()"
   ]
  },
  {
   "cell_type": "code",
   "execution_count": 12,
   "metadata": {},
   "outputs": [
    {
     "name": "stdout",
     "output_type": "stream",
     "text": [
      "6040_2_2    10\n",
      "6160_2_1    10\n",
      "6040_4_4    10\n",
      "6010_1_2    10\n",
      "6070_2_3    10\n",
      "6060_2_3    10\n",
      "6170_0_4    10\n",
      "6170_4_1    10\n",
      "6170_2_4    10\n",
      "6010_4_4    10\n",
      "6110_3_1    10\n",
      "6140_1_2    10\n",
      "6150_2_3    10\n",
      "6120_2_2    10\n",
      "6100_2_3    10\n",
      "6110_1_2    10\n",
      "6140_3_1    10\n",
      "6110_4_0    10\n",
      "6010_4_2    10\n",
      "6100_1_3    10\n",
      "6040_1_0    10\n",
      "6040_1_3    10\n",
      "6090_2_0    10\n",
      "6120_2_0    10\n",
      "6100_2_2    10\n",
      "Name: ImageId, dtype: int64\n",
      "*************************\n",
      "1     25\n",
      "2     25\n",
      "3     25\n",
      "4     25\n",
      "5     25\n",
      "6     25\n",
      "7     25\n",
      "8     25\n",
      "9     25\n",
      "10    25\n",
      "Name: ClassType, dtype: int64\n",
      "*************************\n"
     ]
    }
   ],
   "source": [
    "columns = [\n",
    "    \"ImageId\",\n",
    "    \"ClassType\",\n",
    "]\n",
    "\n",
    "for col in columns:\n",
    "    print(wkt[col].value_counts())\n",
    "    print(\"*\" * 25)"
   ]
  },
  {
   "cell_type": "code",
   "execution_count": 13,
   "metadata": {},
   "outputs": [
    {
     "data": {
      "image/png": "[encoded data removed]",
      "text/plain": [
       "<Figure size 1200x600 with 1 Axes>"
      ]
     },
     "metadata": {},
     "output_type": "display_data"
    }
   ],
   "source": [
    "lib.labeled_barplot(wkt, feature='ClassType')"
   ]
  },
  {
   "cell_type": "code",
   "execution_count": 14,
   "metadata": {},
   "outputs": [],
   "source": [
    "def parse_wkt(wkt_str):\n",
    "    return shapely.from_wkt(wkt_str)"
   ]
  },
  {
   "cell_type": "code",
   "execution_count": 15,
   "metadata": {},
   "outputs": [],
   "source": [
    "wktmp = wkt[Vars.mpgwkt.value].apply(lambda wkt: parse_wkt(wkt))"
   ]
  },
  {
   "cell_type": "code",
   "execution_count": 16,
   "metadata": {},
   "outputs": [],
   "source": [
    "wkt['wkt'] = wktmp"
   ]
  },
  {
   "cell_type": "code",
   "execution_count": 18,
   "metadata": {},
   "outputs": [
    {
     "data": {
      "text/html": [
       "<div>\n",
       "<style scoped>\n",
       "    .dataframe tbody tr th:only-of-type {\n",
       "        vertical-align: middle;\n",
       "    }\n",
       "\n",
       "    .dataframe tbody tr th {\n",
       "        vertical-align: top;\n",
       "    }\n",
       "\n",
       "    .dataframe thead th {\n",
       "        text-align: right;\n",
       "    }\n",
       "</style>\n",
       "<table border=\"1\" class=\"dataframe\">\n",
       "  <thead>\n",
       "    <tr style=\"text-align: right;\">\n",
       "      <th></th>\n",
       "      <th>ImageId</th>\n",
       "      <th>ClassType</th>\n",
       "      <th>MultipolygonWKT</th>\n",
       "      <th>Xmax</th>\n",
       "      <th>Ymin</th>\n",
       "      <th>wkt</th>\n",
       "    </tr>\n",
       "  </thead>\n",
       "  <tbody>\n",
       "    <tr>\n",
       "      <th>0</th>\n",
       "      <td>6040_2_2</td>\n",
       "      <td>1</td>\n",
       "      <td>MULTIPOLYGON EMPTY</td>\n",
       "      <td>0.009158</td>\n",
       "      <td>-0.009043</td>\n",
       "      <td>MULTIPOLYGON EMPTY</td>\n",
       "    </tr>\n",
       "    <tr>\n",
       "      <th>1</th>\n",
       "      <td>6040_2_2</td>\n",
       "      <td>2</td>\n",
       "      <td>MULTIPOLYGON EMPTY</td>\n",
       "      <td>0.009158</td>\n",
       "      <td>-0.009043</td>\n",
       "      <td>MULTIPOLYGON EMPTY</td>\n",
       "    </tr>\n",
       "    <tr>\n",
       "      <th>2</th>\n",
       "      <td>6040_2_2</td>\n",
       "      <td>3</td>\n",
       "      <td>MULTIPOLYGON EMPTY</td>\n",
       "      <td>0.009158</td>\n",
       "      <td>-0.009043</td>\n",
       "      <td>MULTIPOLYGON EMPTY</td>\n",
       "    </tr>\n",
       "    <tr>\n",
       "      <th>3</th>\n",
       "      <td>6040_2_2</td>\n",
       "      <td>4</td>\n",
       "      <td>MULTIPOLYGON (((0.003025 -0.007879000000000001...</td>\n",
       "      <td>0.009158</td>\n",
       "      <td>-0.009043</td>\n",
       "      <td>MULTIPOLYGON (((0.003025 -0.007879, 0.003074 -...</td>\n",
       "    </tr>\n",
       "    <tr>\n",
       "      <th>4</th>\n",
       "      <td>6040_2_2</td>\n",
       "      <td>5</td>\n",
       "      <td>MULTIPOLYGON (((0.005311 -0.009044999999999999...</td>\n",
       "      <td>0.009158</td>\n",
       "      <td>-0.009043</td>\n",
       "      <td>MULTIPOLYGON (((0.005311 -0.009045, 0.00531 -0...</td>\n",
       "    </tr>\n",
       "    <tr>\n",
       "      <th>...</th>\n",
       "      <td>...</td>\n",
       "      <td>...</td>\n",
       "      <td>...</td>\n",
       "      <td>...</td>\n",
       "      <td>...</td>\n",
       "      <td>...</td>\n",
       "    </tr>\n",
       "    <tr>\n",
       "      <th>245</th>\n",
       "      <td>6100_2_2</td>\n",
       "      <td>6</td>\n",
       "      <td>MULTIPOLYGON (((0.006102 -0.009042, 0.00642 -0...</td>\n",
       "      <td>0.009156</td>\n",
       "      <td>-0.009042</td>\n",
       "      <td>MULTIPOLYGON (((0.006102 -0.009042, 0.00642 -0...</td>\n",
       "    </tr>\n",
       "    <tr>\n",
       "      <th>246</th>\n",
       "      <td>6100_2_2</td>\n",
       "      <td>7</td>\n",
       "      <td>MULTIPOLYGON (((0.007887999999999999 -0.009042...</td>\n",
       "      <td>0.009156</td>\n",
       "      <td>-0.009042</td>\n",
       "      <td>MULTIPOLYGON (((0.007888 -0.009042, 0.007856 -...</td>\n",
       "    </tr>\n",
       "    <tr>\n",
       "      <th>247</th>\n",
       "      <td>6100_2_2</td>\n",
       "      <td>8</td>\n",
       "      <td>MULTIPOLYGON (((0.002119 -0.001417, 0.002132 -...</td>\n",
       "      <td>0.009156</td>\n",
       "      <td>-0.009042</td>\n",
       "      <td>MULTIPOLYGON (((0.002119 -0.001417, 0.002132 -...</td>\n",
       "    </tr>\n",
       "    <tr>\n",
       "      <th>248</th>\n",
       "      <td>6100_2_2</td>\n",
       "      <td>9</td>\n",
       "      <td>MULTIPOLYGON (((0.008021 -0.003252, 0.00803399...</td>\n",
       "      <td>0.009156</td>\n",
       "      <td>-0.009042</td>\n",
       "      <td>MULTIPOLYGON (((0.008021 -0.003252, 0.008034 -...</td>\n",
       "    </tr>\n",
       "    <tr>\n",
       "      <th>249</th>\n",
       "      <td>6100_2_2</td>\n",
       "      <td>10</td>\n",
       "      <td>MULTIPOLYGON (((0.003194 -0.0089, 0.003201 -0....</td>\n",
       "      <td>0.009156</td>\n",
       "      <td>-0.009042</td>\n",
       "      <td>MULTIPOLYGON (((0.003194 -0.0089, 0.003201 -0....</td>\n",
       "    </tr>\n",
       "  </tbody>\n",
       "</table>\n",
       "<p>250 rows × 6 columns</p>\n",
       "</div>"
      ],
      "text/plain": [
       "      ImageId  ClassType                                    MultipolygonWKT  \\\n",
       "0    6040_2_2          1                                 MULTIPOLYGON EMPTY   \n",
       "1    6040_2_2          2                                 MULTIPOLYGON EMPTY   \n",
       "2    6040_2_2          3                                 MULTIPOLYGON EMPTY   \n",
       "3    6040_2_2          4  MULTIPOLYGON (((0.003025 -0.007879000000000001...   \n",
       "4    6040_2_2          5  MULTIPOLYGON (((0.005311 -0.009044999999999999...   \n",
       "..        ...        ...                                                ...   \n",
       "245  6100_2_2          6  MULTIPOLYGON (((0.006102 -0.009042, 0.00642 -0...   \n",
       "246  6100_2_2          7  MULTIPOLYGON (((0.007887999999999999 -0.009042...   \n",
       "247  6100_2_2          8  MULTIPOLYGON (((0.002119 -0.001417, 0.002132 -...   \n",
       "248  6100_2_2          9  MULTIPOLYGON (((0.008021 -0.003252, 0.00803399...   \n",
       "249  6100_2_2         10  MULTIPOLYGON (((0.003194 -0.0089, 0.003201 -0....   \n",
       "\n",
       "         Xmax      Ymin                                                wkt  \n",
       "0    0.009158 -0.009043                                 MULTIPOLYGON EMPTY  \n",
       "1    0.009158 -0.009043                                 MULTIPOLYGON EMPTY  \n",
       "2    0.009158 -0.009043                                 MULTIPOLYGON EMPTY  \n",
       "3    0.009158 -0.009043  MULTIPOLYGON (((0.003025 -0.007879, 0.003074 -...  \n",
       "4    0.009158 -0.009043  MULTIPOLYGON (((0.005311 -0.009045, 0.00531 -0...  \n",
       "..        ...       ...                                                ...  \n",
       "245  0.009156 -0.009042  MULTIPOLYGON (((0.006102 -0.009042, 0.00642 -0...  \n",
       "246  0.009156 -0.009042  MULTIPOLYGON (((0.007888 -0.009042, 0.007856 -...  \n",
       "247  0.009156 -0.009042  MULTIPOLYGON (((0.002119 -0.001417, 0.002132 -...  \n",
       "248  0.009156 -0.009042  MULTIPOLYGON (((0.008021 -0.003252, 0.008034 -...  \n",
       "249  0.009156 -0.009042  MULTIPOLYGON (((0.003194 -0.0089, 0.003201 -0....  \n",
       "\n",
       "[250 rows x 6 columns]"
      ]
     },
     "execution_count": 18,
     "metadata": {},
     "output_type": "execute_result"
    }
   ],
   "source": [
    "wkt"
   ]
  },
  {
   "cell_type": "code",
   "execution_count": null,
   "metadata": {},
   "outputs": [],
   "source": []
  }
 ],
 "metadata": {
  "kernelspec": {
   "display_name": ".venv",
   "language": "python",
   "name": "python3"
  },
  "language_info": {
   "codemirror_mode": {
    "name": "ipython",
    "version": 3
   },
   "file_extension": ".py",
   "mimetype": "text/x-python",
   "name": "python",
   "nbconvert_exporter": "python",
   "pygments_lexer": "ipython3",
   "version": "3.8.16"
  },
  "orig_nbformat": 4
 },
 "nbformat": 4,
 "nbformat_minor": 2
}
