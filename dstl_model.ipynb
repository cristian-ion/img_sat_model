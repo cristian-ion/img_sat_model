{
 "cells": [
  {
   "cell_type": "code",
   "execution_count": 20,
   "metadata": {},
   "outputs": [
    {
     "ename": "ImportError",
     "evalue": "cannot import name 'DstlProcessing' from 'solution.dstl_detection.dstl_processing' (/Users/cristianion/Desktop/satimg_model/solution/dstl_detection/dstl_processing.py)",
     "output_type": "error",
     "traceback": [
      "\u001b[0;31m---------------------------------------------------------------------------\u001b[0m",
      "\u001b[0;31mImportError\u001b[0m                               Traceback (most recent call last)",
      "Cell \u001b[0;32mIn[20], line 7\u001b[0m\n\u001b[1;32m      4\u001b[0m \u001b[39mimport\u001b[39;00m \u001b[39malbumentations\u001b[39;00m \u001b[39mas\u001b[39;00m \u001b[39mA\u001b[39;00m\n\u001b[1;32m      5\u001b[0m \u001b[39mfrom\u001b[39;00m \u001b[39malbumentations\u001b[39;00m\u001b[39m.\u001b[39;00m\u001b[39mpytorch\u001b[39;00m \u001b[39mimport\u001b[39;00m ToTensorV2\n\u001b[0;32m----> 7\u001b[0m \u001b[39mfrom\u001b[39;00m \u001b[39msolution\u001b[39;00m\u001b[39m.\u001b[39;00m\u001b[39mdstl_detection\u001b[39;00m\u001b[39m.\u001b[39;00m\u001b[39mdstl_dataset\u001b[39;00m \u001b[39mimport\u001b[39;00m DstlDataset\n",
      "File \u001b[0;32m~/Desktop/satimg_model/solution/dstl_detection/dstl_dataset.py:6\u001b[0m\n\u001b[1;32m      1\u001b[0m \u001b[39mimport\u001b[39;00m \u001b[39mtorch\u001b[39;00m\n\u001b[1;32m      2\u001b[0m \u001b[39mimport\u001b[39;00m \u001b[39mpandas\u001b[39;00m \u001b[39mas\u001b[39;00m \u001b[39mpd\u001b[39;00m\n\u001b[0;32m----> 6\u001b[0m \u001b[39mfrom\u001b[39;00m \u001b[39msolution\u001b[39;00m\u001b[39m.\u001b[39;00m\u001b[39mdstl_detection\u001b[39;00m\u001b[39m.\u001b[39;00m\u001b[39mdstl_processing\u001b[39;00m \u001b[39mimport\u001b[39;00m DstlProcessing\n\u001b[1;32m      7\u001b[0m \u001b[39mfrom\u001b[39;00m \u001b[39msolution\u001b[39;00m\u001b[39m.\u001b[39;00m\u001b[39mdstl_detection\u001b[39;00m\u001b[39m.\u001b[39;00m\u001b[39mdstl_constants\u001b[39;00m \u001b[39mimport\u001b[39;00m COL_IMAGEID\n\u001b[1;32m     10\u001b[0m \u001b[39mclass\u001b[39;00m \u001b[39mDstlDataset\u001b[39;00m(torch\u001b[39m.\u001b[39mutils\u001b[39m.\u001b[39mdata\u001b[39m.\u001b[39mDataset):\n",
      "\u001b[0;31mImportError\u001b[0m: cannot import name 'DstlProcessing' from 'solution.dstl_detection.dstl_processing' (/Users/cristianion/Desktop/satimg_model/solution/dstl_detection/dstl_processing.py)"
     ]
    }
   ],
   "source": [
    "import pandas as pd\n",
    "import torch as th\n",
    "from torch.utils.data import DataLoader, Dataset\n",
    "import albumentations as A\n",
    "from albumentations.pytorch import ToTensorV2\n",
    "\n",
    "from solution.dstl_detection.dstl_dataset import DstlDataset"
   ]
  },
  {
   "cell_type": "code",
   "execution_count": 2,
   "metadata": {},
   "outputs": [],
   "source": [
    "MODEL_NAME = \"dstl_model\"\n",
    "LOCATION = \"models/dstl\"\n",
    "DSTL_PATH = \"/Users/cristianion/Desktop/satimg_data/DSTL\"\n",
    "TRAIN_WKT_FILE = DSTL_PATH + \"/train_wkt_v4.csv\"\n",
    "GRID_SIZES_FILE = DSTL_PATH + \"/grid_sizes.csv\"\n",
    "\n",
    "IMAGES_MULTICHANNEL = DSTL_PATH + \"/sixteen_band\"\n",
    "IMAGES_RGB = DSTL_PATH + \"/three_band\"\n",
    "\n",
    "# Column names\n",
    "COL_MULTIPOLYGONWKT = \"MultipolygonWKT\"\n",
    "COL_CLASSTYPE = \"ClassType\"\n",
    "COL_IMAGEID = \"ImageId\"\n",
    "COL_XMAX = \"Xmax\"\n",
    "COL_YMIN = \"Ymin\"\n",
    "\n",
    "# Image extension\n",
    "EXT_TIFF = \".tif\"\n",
    "\n",
    "\n",
    "# resize parameters\n",
    "IMAGE_RES_X = 512\n",
    "IMAGE_RES_Y = 512\n",
    "\n",
    "\n",
    "CLASSES = [\"building\", \"structures\", \"road\", \"track\", \"tree\", \"crops\", \"waterway\", \"standing_water\", \"vehicle_large\", \"vehicle_small\"]\n"
   ]
  },
  {
   "cell_type": "code",
   "execution_count": 7,
   "metadata": {},
   "outputs": [],
   "source": [
    "DSTL_TRAIN_TRANSFORM = A.Compose([\n",
    "    A.Resize(height=IMAGE_RES_Y, width=IMAGE_RES_X),\n",
    "    A.Normalize(\n",
    "        mean=[0.0, 0.0, 0.0],\n",
    "        std=[1.0, 1.0, 1.0],\n",
    "        max_pixel_value=255.0,\n",
    "    ),\n",
    "    ToTensorV2(),\n",
    "])\n",
    "\n",
    "DSTL_VAL_TRANSFORM = A.Compose([\n",
    "    A.Resize(height=IMAGE_RES_Y, width=IMAGE_RES_X),\n",
    "    A.Normalize(\n",
    "        mean=[0.0, 0.0, 0.0],\n",
    "        std=[1.0, 1.0, 1.0],\n",
    "        max_pixel_value=255.0,\n",
    "    ),\n",
    "    ToTensorV2(),\n",
    "])"
   ]
  },
  {
   "cell_type": "code",
   "execution_count": 8,
   "metadata": {},
   "outputs": [],
   "source": [
    "dataset = DstlDataset(DSTL_TRAIN_TRANSFORM, train_file=TRAIN_WKT_FILE, grid_sizes_file=GRID_SIZES_FILE, classes=CLASSES, train_res_x=IMAGE_RES_X, train_res_y=IMAGE_RES_Y)"
   ]
  },
  {
   "cell_type": "code",
   "execution_count": 10,
   "metadata": {},
   "outputs": [],
   "source": [
    "image, mask = dataset[0]"
   ]
  },
  {
   "cell_type": "code",
   "execution_count": 16,
   "metadata": {},
   "outputs": [
    {
     "name": "stdout",
     "output_type": "stream",
     "text": [
      "Image shape torch.Size([3, 512, 512])\n",
      "Mask shape (512, 512)\n"
     ]
    }
   ],
   "source": [
    "print(\"Image shape \" + str(image.shape))\n",
    "print(\"Mask shape \" + str(mask.shape))"
   ]
  },
  {
   "cell_type": "code",
   "execution_count": 18,
   "metadata": {},
   "outputs": [
    {
     "name": "stdout",
     "output_type": "stream",
     "text": [
      "Using mps device\n"
     ]
    }
   ],
   "source": [
    "# find CUDA / MPS / CPU device\n",
    "device = (\n",
    "    \"cuda\"\n",
    "    if th.cuda.is_available()\n",
    "    else \"mps\"\n",
    "    if th.backends.mps.is_available()\n",
    "    else \"cpu\"\n",
    ")\n",
    "print(f\"Using {device} device\")"
   ]
  },
  {
   "cell_type": "code",
   "execution_count": null,
   "metadata": {},
   "outputs": [],
   "source": [
    "\n"
   ]
  }
 ],
 "metadata": {
  "kernelspec": {
   "display_name": ".venv",
   "language": "python",
   "name": "python3"
  },
  "language_info": {
   "codemirror_mode": {
    "name": "ipython",
    "version": 3
   },
   "file_extension": ".py",
   "mimetype": "text/x-python",
   "name": "python",
   "nbconvert_exporter": "python",
   "pygments_lexer": "ipython3",
   "version": "3.11.3"
  },
  "orig_nbformat": 4
 },
 "nbformat": 4,
 "nbformat_minor": 2
}
