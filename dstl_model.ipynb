{
 "cells": [
  {
   "cell_type": "code",
   "execution_count": null,
   "metadata": {},
   "outputs": [],
   "source": [
    "import pandas as pd\n",
    "import torch as th\n",
    "from torch.utils.data import DataLoader, Dataset\n",
    "import albumentations as A\n",
    "from albumentations.pytorch import ToTensorV2\n",
    "\n",
    "from solution.dstl_detection.dstl_dataset import DstlDataset\n",
    "from solution.dstl_detection.dstl_train import DstlTrain"
   ]
  },
  {
   "cell_type": "code",
   "execution_count": null,
   "metadata": {},
   "outputs": [],
   "source": [
    "MODEL_NAME = \"dstl_model\"\n",
    "LOCATION = \"models/dstl\"\n",
    "DSTL_PATH = \"/Users/cristianion/Desktop/satimg_data/DSTL\"\n",
    "TRAIN_WKT_FILE = DSTL_PATH + \"/train_wkt_v4.csv\"\n",
    "GRID_SIZES_FILE = DSTL_PATH + \"/grid_sizes.csv\"\n",
    "\n",
    "IMAGES_MULTICHANNEL = DSTL_PATH + \"/sixteen_band\"\n",
    "IMAGES_RGB = DSTL_PATH + \"/three_band\"\n",
    "\n",
    "# Column names\n",
    "COL_MULTIPOLYGONWKT = \"MultipolygonWKT\"\n",
    "COL_CLASSTYPE = \"ClassType\"\n",
    "COL_IMAGEID = \"ImageId\"\n",
    "COL_XMAX = \"Xmax\"\n",
    "COL_YMIN = \"Ymin\"\n",
    "\n",
    "# Image extension\n",
    "EXT_TIFF = \".tif\"\n",
    "\n",
    "\n",
    "# resize parameters\n",
    "IMAGE_RES_X = 512\n",
    "IMAGE_RES_Y = 512\n",
    "\n",
    "\n",
    "CLASSES = [\"building\", \"structures\", \"road\", \"track\", \"tree\", \"crops\", \"waterway\", \"standing_water\", \"vehicle_large\", \"vehicle_small\"]\n"
   ]
  },
  {
   "cell_type": "code",
   "execution_count": null,
   "metadata": {},
   "outputs": [],
   "source": [
    "DSTL_TRAIN_TRANSFORM = A.Compose([\n",
    "    A.Resize(height=IMAGE_RES_Y, width=IMAGE_RES_X),\n",
    "    A.Normalize(\n",
    "        mean=[0.0, 0.0, 0.0],\n",
    "        std=[1.0, 1.0, 1.0],\n",
    "        max_pixel_value=255.0,\n",
    "    ),\n",
    "    ToTensorV2(),\n",
    "])\n",
    "\n",
    "DSTL_VAL_TRANSFORM = A.Compose([\n",
    "    A.Resize(height=IMAGE_RES_Y, width=IMAGE_RES_X),\n",
    "    A.Normalize(\n",
    "        mean=[0.0, 0.0, 0.0],\n",
    "        std=[1.0, 1.0, 1.0],\n",
    "        max_pixel_value=255.0,\n",
    "    ),\n",
    "    ToTensorV2(),\n",
    "])"
   ]
  },
  {
   "cell_type": "code",
   "execution_count": null,
   "metadata": {},
   "outputs": [],
   "source": [
    "dataset = DstlDataset(DSTL_TRAIN_TRANSFORM, train_file=TRAIN_WKT_FILE, grid_sizes_file=GRID_SIZES_FILE, classes=CLASSES, train_res_x=IMAGE_RES_X, train_res_y=IMAGE_RES_Y)"
   ]
  },
  {
   "cell_type": "code",
   "execution_count": null,
   "metadata": {},
   "outputs": [],
   "source": [
    "# image and mask stats\n",
    "image, mask = dataset[0]"
   ]
  },
  {
   "cell_type": "code",
   "execution_count": null,
   "metadata": {},
   "outputs": [],
   "source": [
    "print(\"Image shape \" + str(image.shape))\n",
    "print(\"Mask shape \" + str(mask.shape))"
   ]
  },
  {
   "cell_type": "code",
   "execution_count": null,
   "metadata": {},
   "outputs": [],
   "source": [
    "dstl_valset = DstlDataset(DSTL_VAL_TRANSFORM, train_file=TRAIN_WKT_FILE, grid_sizes_file=GRID_SIZES_FILE, classes=CLASSES, train_res_x=IMAGE_RES_X, train_res_y=IMAGE_RES_Y)"
   ]
  },
  {
   "cell_type": "code",
   "execution_count": null,
   "metadata": {},
   "outputs": [],
   "source": [
    "\n",
    "dstl_train = DstlTrain(dataset, dstl_valset)"
   ]
  },
  {
   "cell_type": "code",
   "execution_count": null,
   "metadata": {},
   "outputs": [],
   "source": [
    "dstl_train.train()"
   ]
  }
 ],
 "metadata": {
  "kernelspec": {
   "display_name": ".venv",
   "language": "python",
   "name": "python3"
  },
  "language_info": {
   "codemirror_mode": {
    "name": "ipython",
    "version": 3
   },
   "file_extension": ".py",
   "mimetype": "text/x-python",
   "name": "python",
   "nbconvert_exporter": "python",
   "pygments_lexer": "ipython3",
   "version": "3.11.3"
  },
  "orig_nbformat": 4
 },
 "nbformat": 4,
 "nbformat_minor": 2
}
