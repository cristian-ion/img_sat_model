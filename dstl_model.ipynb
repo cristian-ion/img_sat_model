{
 "cells": [
  {
   "cell_type": "code",
   "execution_count": 1,
   "metadata": {},
   "outputs": [],
   "source": [
    "import pandas as pd\n",
    "import torch as th\n",
    "from torch.utils.data import DataLoader, Dataset\n",
    "import albumentations as A\n",
    "from albumentations.pytorch import ToTensorV2\n",
    "\n",
    "from solution.dstl_detection.dstl_processing import DstlProcessingLib"
   ]
  },
  {
   "cell_type": "code",
   "execution_count": 2,
   "metadata": {},
   "outputs": [],
   "source": [
    "MODEL_NAME = \"dstl_model\"\n",
    "LOCATION = \"models/dstl\"\n",
    "DSTL_PATH = \"/Users/cristianion/Desktop/satimg_data/DSTL\"\n",
    "TRAIN_WKT_FILE = DSTL_PATH + \"/train_wkt_v4.csv\"\n",
    "GRID_SIZES_FILE = DSTL_PATH + \"/grid_sizes.csv\"\n",
    "\n",
    "IMAGES_MULTICHANNEL = DSTL_PATH + \"/sixteen_band\"\n",
    "IMAGES_RGB = DSTL_PATH + \"/three_band\"\n",
    "\n",
    "# Column names\n",
    "COL_MULTIPOLYGONWKT = \"MultipolygonWKT\"\n",
    "COL_CLASSTYPE = \"ClassType\"\n",
    "COL_IMAGEID = \"ImageId\"\n",
    "COL_XMAX = \"Xmax\"\n",
    "COL_YMIN = \"Ymin\"\n",
    "\n",
    "# Image extension\n",
    "EXT_TIFF = \".tif\"\n",
    "\n",
    "\n",
    "# resize parameters\n",
    "IMAGE_RES_X = 512\n",
    "IMAGE_RES_Y = 512\n",
    "\n",
    "\n",
    "CLASSES = [\"building\", \"structures\", \"road\", \"track\", \"tree\", \"crops\", \"waterway\", \"standing_water\", \"vehicle_large\", \"vehicle_small\"]\n"
   ]
  },
  {
   "cell_type": "code",
   "execution_count": 3,
   "metadata": {},
   "outputs": [],
   "source": [
    "class DstlDataset(Dataset):\n",
    "    def __init__(self, transform) -> None:\n",
    "        super().__init__()\n",
    "\n",
    "        df_wkt = pd.read_csv(TRAIN_WKT_FILE)\n",
    "        df_gs = pd.read_csv(GRID_SIZES_FILE, names=['ImageId', 'Xmax', 'Ymin'], skiprows=1)\n",
    "\n",
    "        # self.df_samples = df_wkt\n",
    "        self.transform = transform\n",
    "        self.processing = DstlProcessingLib(df_wkt, df_gs, CLASSES)\n",
    "        self.df_wkt = df_wkt\n",
    "\n",
    "    def __len__(self):\n",
    "        return len(self.df_wkt)\n",
    "\n",
    "    def __getitem__(self, index):\n",
    "        sample = self.df_wkt.iloc[index]\n",
    "\n",
    "        image, mask = self.processing.read_image_and_mask(\n",
    "            raster_size=(IMAGE_RES_Y, IMAGE_RES_X),\n",
    "            image_id=sample[COL_IMAGEID],\n",
    "        )\n",
    "        mask = mask[0]\n",
    "\n",
    "        if self.transform:\n",
    "            augmentations = self.transform(image=image)\n",
    "            image = augmentations[\"image\"]\n",
    "\n",
    "        return image, mask"
   ]
  },
  {
   "cell_type": "code",
   "execution_count": 4,
   "metadata": {},
   "outputs": [],
   "source": [
    "DSTL_TRAIN_TRANSFORM = A.Compose([\n",
    "    A.Resize(height=IMAGE_RES_Y, width=IMAGE_RES_X),\n",
    "    A.Normalize(\n",
    "        mean=[0.0, 0.0, 0.0],\n",
    "        std=[1.0, 1.0, 1.0],\n",
    "        max_pixel_value=255.0,\n",
    "    ),\n",
    "    ToTensorV2(),\n",
    "])\n",
    "\n",
    "DSTL_VAL_TRANSFORM = A.Compose([\n",
    "    A.Resize(height=IMAGE_RES_Y, width=IMAGE_RES_X),\n",
    "    A.Normalize(\n",
    "        mean=[0.0, 0.0, 0.0],\n",
    "        std=[1.0, 1.0, 1.0],\n",
    "        max_pixel_value=255.0,\n",
    "    ),\n",
    "    ToTensorV2(),\n",
    "])"
   ]
  },
  {
   "cell_type": "code",
   "execution_count": 5,
   "metadata": {},
   "outputs": [],
   "source": [
    "dataset = DstlDataset(DSTL_TRAIN_TRANSFORM)"
   ]
  },
  {
   "cell_type": "code",
   "execution_count": 6,
   "metadata": {},
   "outputs": [
    {
     "data": {
      "text/plain": [
       "(tensor([[[1.2588, 1.2902, 1.2980,  ..., 1.4196, 1.4471, 1.4392],\n",
       "          [1.3059, 1.3804, 1.3059,  ..., 1.4078, 1.4314, 1.4431],\n",
       "          [1.3333, 1.3686, 1.2627,  ..., 1.4118, 1.4196, 1.4275],\n",
       "          ...,\n",
       "          [1.2627, 1.3020, 1.2784,  ..., 1.2863, 1.2667, 1.2510],\n",
       "          [1.2588, 1.2902, 1.2588,  ..., 1.3137, 1.2980, 1.2824],\n",
       "          [1.2353, 1.2588, 1.2667,  ..., 1.2235, 1.2745, 1.3098]],\n",
       " \n",
       "         [[1.6000, 1.6392, 1.6549,  ..., 1.7176, 1.7294, 1.7137],\n",
       "          [1.6392, 1.7059, 1.6588,  ..., 1.7098, 1.7137, 1.7216],\n",
       "          [1.6549, 1.6863, 1.6000,  ..., 1.7176, 1.7216, 1.7216],\n",
       "          ...,\n",
       "          [1.5804, 1.6039, 1.6078,  ..., 1.6235, 1.6078, 1.5922],\n",
       "          [1.5843, 1.6078, 1.6157,  ..., 1.6549, 1.6392, 1.6157],\n",
       "          [1.5725, 1.6000, 1.6275,  ..., 1.5647, 1.6118, 1.6471]],\n",
       " \n",
       "         [[1.1922, 1.2157, 1.2275,  ..., 1.2392, 1.2353, 1.2314],\n",
       "          [1.2078, 1.2471, 1.2196,  ..., 1.2392, 1.2431, 1.2392],\n",
       "          [1.2118, 1.2353, 1.1882,  ..., 1.2392, 1.2392, 1.2392],\n",
       "          ...,\n",
       "          [1.1765, 1.1843, 1.1804,  ..., 1.1922, 1.1882, 1.1804],\n",
       "          [1.1804, 1.1882, 1.1882,  ..., 1.2039, 1.2078, 1.1961],\n",
       "          [1.1765, 1.1843, 1.1843,  ..., 1.1647, 1.1882, 1.2078]]]),\n",
       " array([[0, 0, 0, ..., 0, 0, 0],\n",
       "        [0, 0, 0, ..., 0, 0, 0],\n",
       "        [0, 0, 0, ..., 0, 0, 0],\n",
       "        ...,\n",
       "        [0, 0, 0, ..., 0, 0, 0],\n",
       "        [0, 0, 0, ..., 0, 0, 0],\n",
       "        [0, 0, 0, ..., 0, 0, 0]], dtype=uint8))"
      ]
     },
     "execution_count": 6,
     "metadata": {},
     "output_type": "execute_result"
    }
   ],
   "source": [
    "dataset[0]"
   ]
  },
  {
   "cell_type": "code",
   "execution_count": null,
   "metadata": {},
   "outputs": [],
   "source": []
  }
 ],
 "metadata": {
  "kernelspec": {
   "display_name": ".venv",
   "language": "python",
   "name": "python3"
  },
  "language_info": {
   "codemirror_mode": {
    "name": "ipython",
    "version": 3
   },
   "file_extension": ".py",
   "mimetype": "text/x-python",
   "name": "python",
   "nbconvert_exporter": "python",
   "pygments_lexer": "ipython3",
   "version": "3.11.3"
  },
  "orig_nbformat": 4
 },
 "nbformat": 4,
 "nbformat_minor": 2
}
