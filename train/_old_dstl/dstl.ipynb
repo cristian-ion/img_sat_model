{
 "cells": [
  {
   "attachments": {},
   "cell_type": "markdown",
   "metadata": {},
   "source": [
    "# DSTL Competition (2017)\n",
    "\n",
    "- 3 band and 16 bands\n",
    "- inputs are from satellite imagery\n",
    "- as alege acest set de date deoarece se aseeamana mai mult cu o situatie reala"
   ]
  },
  {
   "attachments": {},
   "cell_type": "markdown",
   "metadata": {},
   "source": [
    "### Well-Known Text (WKT)\n",
    "Well-Known Text (WKT) is an ASCII representation of a spatial object.\n",
    "\n",
    "WKTs are not case sensitive; Vertica recognizes any combination of lowercase and uppercase letters.\n",
    "\n",
    "References:\n",
    "https://www.vertica.com/docs/9.3.x/HTML/Content/Authoring/AnalyzingData/Geospatial/Spatial_Definitions/WellknownTextWKT.htm"
   ]
  },
  {
   "cell_type": "markdown",
   "metadata": {},
   "source": [
    "# DSTL Dataset analysis"
   ]
  },
  {
   "cell_type": "code",
   "execution_count": 42,
   "metadata": {},
   "outputs": [],
   "source": [
    "DSTL_DIR = \"/Users/cristianion/Desktop/img_sat_data/DSTL\""
   ]
  },
  {
   "cell_type": "code",
   "execution_count": 43,
   "metadata": {},
   "outputs": [],
   "source": [
    "import pandas as pd\n",
    "import tifffile as tiff\n",
    "import shapely\n",
    "import csv\n",
    "import os\n",
    "import matplotlib.pyplot as plt"
   ]
  },
  {
   "cell_type": "code",
   "execution_count": 55,
   "metadata": {},
   "outputs": [],
   "source": [
    "TRAINWKT_FILE = f\"{DSTL_DIR}/train_wkt_v4.csv\"\n",
    "GRIDSIZE_FILE = f\"{DSTL_DIR}/grid_sizes.csv\"\n",
    "BANDDIR_3 = f\"{DSTL_DIR}/three_band\"\n",
    "BANDDIR_16 = f\"{DSTL_DIR}/sixteen_band\"\n",
    "UNIQUE_ID = \"ImageId\"\n",
    "\n",
    "assert os.path.isfile(TRAINWKT_FILE)\n",
    "assert os.path.isfile(GRIDSIZE_FILE)\n",
    "assert os.path.isdir(BANDDIR_3)\n",
    "assert os.path.isdir(BANDDIR_16)\n"
   ]
  },
  {
   "cell_type": "code",
   "execution_count": 56,
   "metadata": {},
   "outputs": [],
   "source": [
    "train_df = pd.read_csv(TRAINWKT_FILE)\n",
    "gs_df = pd.read_csv(GRIDSIZE_FILE)\n",
    "gs_df.rename(columns={'Unnamed: 0': UNIQUE_ID}, inplace=True)\n",
    "df = pd.merge(left=train_df, right=gs_df, on=UNIQUE_ID)\n",
    "\n",
    "assert len(train_df.ImageId) > 0\n",
    "assert len(gs_df.ImageId) > 0\n",
    "assert len(df) > 0"
   ]
  },
  {
   "cell_type": "code",
   "execution_count": 57,
   "metadata": {},
   "outputs": [
    {
     "name": "stdout",
     "output_type": "stream",
     "text": [
      "<class 'pandas.core.frame.DataFrame'>\n",
      "RangeIndex: 450 entries, 0 to 449\n",
      "Data columns (total 3 columns):\n",
      " #   Column   Non-Null Count  Dtype  \n",
      "---  ------   --------------  -----  \n",
      " 0   ImageId  450 non-null    object \n",
      " 1   Xmax     450 non-null    float64\n",
      " 2   Ymin     450 non-null    float64\n",
      "dtypes: float64(2), object(1)\n",
      "memory usage: 10.7+ KB\n"
     ]
    }
   ],
   "source": [
    "gs_df.info()"
   ]
  },
  {
   "cell_type": "code",
   "execution_count": 58,
   "metadata": {},
   "outputs": [
    {
     "data": {
      "text/html": [
       "<div>\n",
       "<style scoped>\n",
       "    .dataframe tbody tr th:only-of-type {\n",
       "        vertical-align: middle;\n",
       "    }\n",
       "\n",
       "    .dataframe tbody tr th {\n",
       "        vertical-align: top;\n",
       "    }\n",
       "\n",
       "    .dataframe thead th {\n",
       "        text-align: right;\n",
       "    }\n",
       "</style>\n",
       "<table border=\"1\" class=\"dataframe\">\n",
       "  <thead>\n",
       "    <tr style=\"text-align: right;\">\n",
       "      <th></th>\n",
       "      <th>ImageId</th>\n",
       "      <th>Xmax</th>\n",
       "      <th>Ymin</th>\n",
       "    </tr>\n",
       "  </thead>\n",
       "  <tbody>\n",
       "    <tr>\n",
       "      <th>0</th>\n",
       "      <td>6120_2_4</td>\n",
       "      <td>0.009180</td>\n",
       "      <td>-0.00904</td>\n",
       "    </tr>\n",
       "    <tr>\n",
       "      <th>1</th>\n",
       "      <td>6120_2_3</td>\n",
       "      <td>0.009169</td>\n",
       "      <td>-0.00904</td>\n",
       "    </tr>\n",
       "    <tr>\n",
       "      <th>2</th>\n",
       "      <td>6120_2_2</td>\n",
       "      <td>0.009188</td>\n",
       "      <td>-0.00904</td>\n",
       "    </tr>\n",
       "    <tr>\n",
       "      <th>3</th>\n",
       "      <td>6120_2_1</td>\n",
       "      <td>0.009188</td>\n",
       "      <td>-0.00904</td>\n",
       "    </tr>\n",
       "    <tr>\n",
       "      <th>4</th>\n",
       "      <td>6120_2_0</td>\n",
       "      <td>0.009188</td>\n",
       "      <td>-0.00904</td>\n",
       "    </tr>\n",
       "  </tbody>\n",
       "</table>\n",
       "</div>"
      ],
      "text/plain": [
       "    ImageId      Xmax     Ymin\n",
       "0  6120_2_4  0.009180 -0.00904\n",
       "1  6120_2_3  0.009169 -0.00904\n",
       "2  6120_2_2  0.009188 -0.00904\n",
       "3  6120_2_1  0.009188 -0.00904\n",
       "4  6120_2_0  0.009188 -0.00904"
      ]
     },
     "execution_count": 58,
     "metadata": {},
     "output_type": "execute_result"
    }
   ],
   "source": [
    "gs_df.head()"
   ]
  },
  {
   "cell_type": "code",
   "execution_count": 59,
   "metadata": {},
   "outputs": [
    {
     "data": {
      "text/html": [
       "<div>\n",
       "<style scoped>\n",
       "    .dataframe tbody tr th:only-of-type {\n",
       "        vertical-align: middle;\n",
       "    }\n",
       "\n",
       "    .dataframe tbody tr th {\n",
       "        vertical-align: top;\n",
       "    }\n",
       "\n",
       "    .dataframe thead th {\n",
       "        text-align: right;\n",
       "    }\n",
       "</style>\n",
       "<table border=\"1\" class=\"dataframe\">\n",
       "  <thead>\n",
       "    <tr style=\"text-align: right;\">\n",
       "      <th></th>\n",
       "      <th>count</th>\n",
       "      <th>mean</th>\n",
       "      <th>std</th>\n",
       "      <th>min</th>\n",
       "      <th>25%</th>\n",
       "      <th>50%</th>\n",
       "      <th>75%</th>\n",
       "      <th>max</th>\n",
       "    </tr>\n",
       "  </thead>\n",
       "  <tbody>\n",
       "    <tr>\n",
       "      <th>Xmax</th>\n",
       "      <td>450.0</td>\n",
       "      <td>0.009153</td>\n",
       "      <td>0.000052</td>\n",
       "      <td>0.009004</td>\n",
       "      <td>0.009156</td>\n",
       "      <td>0.009169</td>\n",
       "      <td>0.009188</td>\n",
       "      <td>0.009188</td>\n",
       "    </tr>\n",
       "    <tr>\n",
       "      <th>Ymin</th>\n",
       "      <td>450.0</td>\n",
       "      <td>-0.009040</td>\n",
       "      <td>0.000003</td>\n",
       "      <td>-0.009045</td>\n",
       "      <td>-0.009042</td>\n",
       "      <td>-0.009040</td>\n",
       "      <td>-0.009040</td>\n",
       "      <td>-0.009031</td>\n",
       "    </tr>\n",
       "  </tbody>\n",
       "</table>\n",
       "</div>"
      ],
      "text/plain": [
       "      count      mean       std       min       25%       50%       75%   \n",
       "Xmax  450.0  0.009153  0.000052  0.009004  0.009156  0.009169  0.009188  \\\n",
       "Ymin  450.0 -0.009040  0.000003 -0.009045 -0.009042 -0.009040 -0.009040   \n",
       "\n",
       "           max  \n",
       "Xmax  0.009188  \n",
       "Ymin -0.009031  "
      ]
     },
     "execution_count": 59,
     "metadata": {},
     "output_type": "execute_result"
    }
   ],
   "source": [
    "gs_df.describe().T"
   ]
  },
  {
   "cell_type": "code",
   "execution_count": 60,
   "metadata": {},
   "outputs": [
    {
     "data": {
      "text/html": [
       "<div>\n",
       "<style scoped>\n",
       "    .dataframe tbody tr th:only-of-type {\n",
       "        vertical-align: middle;\n",
       "    }\n",
       "\n",
       "    .dataframe tbody tr th {\n",
       "        vertical-align: top;\n",
       "    }\n",
       "\n",
       "    .dataframe thead th {\n",
       "        text-align: right;\n",
       "    }\n",
       "</style>\n",
       "<table border=\"1\" class=\"dataframe\">\n",
       "  <thead>\n",
       "    <tr style=\"text-align: right;\">\n",
       "      <th></th>\n",
       "      <th>ImageId</th>\n",
       "      <th>ClassType</th>\n",
       "      <th>MultipolygonWKT</th>\n",
       "    </tr>\n",
       "  </thead>\n",
       "  <tbody>\n",
       "    <tr>\n",
       "      <th>0</th>\n",
       "      <td>6040_2_2</td>\n",
       "      <td>1</td>\n",
       "      <td>MULTIPOLYGON EMPTY</td>\n",
       "    </tr>\n",
       "    <tr>\n",
       "      <th>1</th>\n",
       "      <td>6040_2_2</td>\n",
       "      <td>2</td>\n",
       "      <td>MULTIPOLYGON EMPTY</td>\n",
       "    </tr>\n",
       "    <tr>\n",
       "      <th>2</th>\n",
       "      <td>6040_2_2</td>\n",
       "      <td>3</td>\n",
       "      <td>MULTIPOLYGON EMPTY</td>\n",
       "    </tr>\n",
       "    <tr>\n",
       "      <th>3</th>\n",
       "      <td>6040_2_2</td>\n",
       "      <td>4</td>\n",
       "      <td>MULTIPOLYGON (((0.003025 -0.007879000000000001...</td>\n",
       "    </tr>\n",
       "    <tr>\n",
       "      <th>4</th>\n",
       "      <td>6040_2_2</td>\n",
       "      <td>5</td>\n",
       "      <td>MULTIPOLYGON (((0.005311 -0.009044999999999999...</td>\n",
       "    </tr>\n",
       "  </tbody>\n",
       "</table>\n",
       "</div>"
      ],
      "text/plain": [
       "    ImageId  ClassType                                    MultipolygonWKT\n",
       "0  6040_2_2          1                                 MULTIPOLYGON EMPTY\n",
       "1  6040_2_2          2                                 MULTIPOLYGON EMPTY\n",
       "2  6040_2_2          3                                 MULTIPOLYGON EMPTY\n",
       "3  6040_2_2          4  MULTIPOLYGON (((0.003025 -0.007879000000000001...\n",
       "4  6040_2_2          5  MULTIPOLYGON (((0.005311 -0.009044999999999999..."
      ]
     },
     "execution_count": 60,
     "metadata": {},
     "output_type": "execute_result"
    }
   ],
   "source": [
    "train_df.head()"
   ]
  },
  {
   "cell_type": "code",
   "execution_count": 61,
   "metadata": {},
   "outputs": [
    {
     "data": {
      "text/plain": [
       "<Axes: xlabel='ClassType'>"
      ]
     },
     "execution_count": 61,
     "metadata": {},
     "output_type": "execute_result"
    },
    {
     "data": {
      "image/png": "[encoded data removed]",
      "text/plain": [
       "<Figure size 640x480 with 1 Axes>"
      ]
     },
     "metadata": {},
     "output_type": "display_data"
    }
   ],
   "source": [
    "fig, ax = plt.subplots()\n",
    "train_df['ClassType'].value_counts().plot(ax=ax, kind='bar')"
   ]
  },
  {
   "cell_type": "markdown",
   "metadata": {},
   "source": [
    "1. Buildings - large building, residential, non-residential, fuel storage facility, fortified building\n",
    "2. Misc. Manmade structures \n",
    "3. Road \n",
    "4. Track - poor/dirt/cart track, footpath/trail\n",
    "5. Trees - woodland, hedgerows, groups of trees, standalone trees\n",
    "6. Crops - contour ploughing/cropland, grain (wheat) crops, row (potatoes, turnips) crops\n",
    "7. Waterway \n",
    "8. Standing water\n",
    "9. Vehicle Large - large vehicle (e.g. lorry, truck,bus), logistics vehicle\n",
    "10. Vehicle Small - small vehicle (car, van), motorbike\n"
   ]
  },
  {
   "cell_type": "code",
   "execution_count": 62,
   "metadata": {},
   "outputs": [
    {
     "data": {
      "text/html": [
       "<div>\n",
       "<style scoped>\n",
       "    .dataframe tbody tr th:only-of-type {\n",
       "        vertical-align: middle;\n",
       "    }\n",
       "\n",
       "    .dataframe tbody tr th {\n",
       "        vertical-align: top;\n",
       "    }\n",
       "\n",
       "    .dataframe thead th {\n",
       "        text-align: right;\n",
       "    }\n",
       "</style>\n",
       "<table border=\"1\" class=\"dataframe\">\n",
       "  <thead>\n",
       "    <tr style=\"text-align: right;\">\n",
       "      <th></th>\n",
       "      <th>ImageId</th>\n",
       "      <th>ClassType</th>\n",
       "      <th>MultipolygonWKT</th>\n",
       "      <th>Xmax</th>\n",
       "      <th>Ymin</th>\n",
       "    </tr>\n",
       "  </thead>\n",
       "  <tbody>\n",
       "    <tr>\n",
       "      <th>0</th>\n",
       "      <td>6040_2_2</td>\n",
       "      <td>1</td>\n",
       "      <td>MULTIPOLYGON EMPTY</td>\n",
       "      <td>0.009158</td>\n",
       "      <td>-0.009043</td>\n",
       "    </tr>\n",
       "    <tr>\n",
       "      <th>1</th>\n",
       "      <td>6040_2_2</td>\n",
       "      <td>2</td>\n",
       "      <td>MULTIPOLYGON EMPTY</td>\n",
       "      <td>0.009158</td>\n",
       "      <td>-0.009043</td>\n",
       "    </tr>\n",
       "    <tr>\n",
       "      <th>2</th>\n",
       "      <td>6040_2_2</td>\n",
       "      <td>3</td>\n",
       "      <td>MULTIPOLYGON EMPTY</td>\n",
       "      <td>0.009158</td>\n",
       "      <td>-0.009043</td>\n",
       "    </tr>\n",
       "    <tr>\n",
       "      <th>3</th>\n",
       "      <td>6040_2_2</td>\n",
       "      <td>4</td>\n",
       "      <td>MULTIPOLYGON (((0.003025 -0.007879000000000001...</td>\n",
       "      <td>0.009158</td>\n",
       "      <td>-0.009043</td>\n",
       "    </tr>\n",
       "    <tr>\n",
       "      <th>4</th>\n",
       "      <td>6040_2_2</td>\n",
       "      <td>5</td>\n",
       "      <td>MULTIPOLYGON (((0.005311 -0.009044999999999999...</td>\n",
       "      <td>0.009158</td>\n",
       "      <td>-0.009043</td>\n",
       "    </tr>\n",
       "  </tbody>\n",
       "</table>\n",
       "</div>"
      ],
      "text/plain": [
       "    ImageId  ClassType                                    MultipolygonWKT   \n",
       "0  6040_2_2          1                                 MULTIPOLYGON EMPTY  \\\n",
       "1  6040_2_2          2                                 MULTIPOLYGON EMPTY   \n",
       "2  6040_2_2          3                                 MULTIPOLYGON EMPTY   \n",
       "3  6040_2_2          4  MULTIPOLYGON (((0.003025 -0.007879000000000001...   \n",
       "4  6040_2_2          5  MULTIPOLYGON (((0.005311 -0.009044999999999999...   \n",
       "\n",
       "       Xmax      Ymin  \n",
       "0  0.009158 -0.009043  \n",
       "1  0.009158 -0.009043  \n",
       "2  0.009158 -0.009043  \n",
       "3  0.009158 -0.009043  \n",
       "4  0.009158 -0.009043  "
      ]
     },
     "execution_count": 62,
     "metadata": {},
     "output_type": "execute_result"
    }
   ],
   "source": [
    "df.head()"
   ]
  },
  {
   "cell_type": "code",
   "execution_count": 64,
   "metadata": {},
   "outputs": [
    {
     "data": {
      "text/plain": [
       "ImageId\n",
       "6040_2_2    10\n",
       "6160_2_1    10\n",
       "6040_4_4    10\n",
       "6010_1_2    10\n",
       "6070_2_3    10\n",
       "6060_2_3    10\n",
       "6170_0_4    10\n",
       "6170_4_1    10\n",
       "6170_2_4    10\n",
       "6010_4_4    10\n",
       "6110_3_1    10\n",
       "6140_1_2    10\n",
       "6150_2_3    10\n",
       "6120_2_2    10\n",
       "6100_2_3    10\n",
       "6110_1_2    10\n",
       "6140_3_1    10\n",
       "6110_4_0    10\n",
       "6010_4_2    10\n",
       "6100_1_3    10\n",
       "6040_1_0    10\n",
       "6040_1_3    10\n",
       "6090_2_0    10\n",
       "6120_2_0    10\n",
       "6100_2_2    10\n",
       "Name: count, dtype: int64"
      ]
     },
     "execution_count": 64,
     "metadata": {},
     "output_type": "execute_result"
    }
   ],
   "source": [
    "df[UNIQUE_ID].value_counts()  # number of unique pictures."
   ]
  },
  {
   "cell_type": "code",
   "execution_count": 65,
   "metadata": {},
   "outputs": [
    {
     "data": {
      "text/plain": [
       "ClassType\n",
       "1     25\n",
       "2     25\n",
       "3     25\n",
       "4     25\n",
       "5     25\n",
       "6     25\n",
       "7     25\n",
       "8     25\n",
       "9     25\n",
       "10    25\n",
       "Name: count, dtype: int64"
      ]
     },
     "execution_count": 65,
     "metadata": {},
     "output_type": "execute_result"
    }
   ],
   "source": [
    "df[\"ClassType\"].value_counts()  # number of images per class type"
   ]
  },
  {
   "cell_type": "code",
   "execution_count": 66,
   "metadata": {},
   "outputs": [],
   "source": [
    "def parse_wkt(wkt_str):\n",
    "    return shapely.from_wkt(wkt_str)"
   ]
  },
  {
   "cell_type": "code",
   "execution_count": 67,
   "metadata": {},
   "outputs": [],
   "source": [
    "test_wkt_df = df[\"MultipolygonWKT\"].apply(lambda wkt: parse_wkt(wkt))"
   ]
  },
  {
   "cell_type": "code",
   "execution_count": 68,
   "metadata": {},
   "outputs": [
    {
     "data": {
      "text/plain": [
       "0                                     MULTIPOLYGON EMPTY\n",
       "1                                     MULTIPOLYGON EMPTY\n",
       "2                                     MULTIPOLYGON EMPTY\n",
       "3      MULTIPOLYGON (((0.003025 -0.007879, 0.003074 -...\n",
       "4      MULTIPOLYGON (((0.005311 -0.009045, 0.00531 -0...\n",
       "                             ...                        \n",
       "245    MULTIPOLYGON (((0.006102 -0.009042, 0.00642 -0...\n",
       "246    MULTIPOLYGON (((0.007888 -0.009042, 0.007856 -...\n",
       "247    MULTIPOLYGON (((0.002119 -0.001417, 0.002132 -...\n",
       "248    MULTIPOLYGON (((0.008021 -0.003252, 0.008034 -...\n",
       "249    MULTIPOLYGON (((0.003194 -0.0089, 0.003201 -0....\n",
       "Name: MultipolygonWKT, Length: 250, dtype: object"
      ]
     },
     "execution_count": 68,
     "metadata": {},
     "output_type": "execute_result"
    }
   ],
   "source": [
    "test_wkt_df"
   ]
  },
  {
   "attachments": {},
   "cell_type": "markdown",
   "metadata": {},
   "source": [
    "## Building"
   ]
  },
  {
   "cell_type": "code",
   "execution_count": 69,
   "metadata": {},
   "outputs": [],
   "source": [
    "IM_ID = '6120_2_2'\n",
    "POLY_TYPE = '1'"
   ]
  },
  {
   "cell_type": "code",
   "execution_count": 70,
   "metadata": {},
   "outputs": [
    {
     "ename": "FileNotFoundError",
     "evalue": "[Errno 2] No such file or directory: '../input/grid_sizes.csv'",
     "output_type": "error",
     "traceback": [
      "\u001b[0;31m---------------------------------------------------------------------------\u001b[0m",
      "\u001b[0;31mFileNotFoundError\u001b[0m                         Traceback (most recent call last)",
      "Cell \u001b[0;32mIn[70], line 3\u001b[0m\n\u001b[1;32m      1\u001b[0m \u001b[39m# Load grid size\u001b[39;00m\n\u001b[1;32m      2\u001b[0m x_max \u001b[39m=\u001b[39m y_min \u001b[39m=\u001b[39m \u001b[39mNone\u001b[39;00m\n\u001b[0;32m----> 3\u001b[0m \u001b[39mfor\u001b[39;00m _im_id, _x, _y \u001b[39min\u001b[39;00m csv\u001b[39m.\u001b[39mreader(\u001b[39mopen\u001b[39;49m(\u001b[39m'\u001b[39;49m\u001b[39m../input/grid_sizes.csv\u001b[39;49m\u001b[39m'\u001b[39;49m)):\n\u001b[1;32m      4\u001b[0m     \u001b[39mif\u001b[39;00m _im_id \u001b[39m==\u001b[39m IM_ID:\n\u001b[1;32m      5\u001b[0m         x_max, y_min \u001b[39m=\u001b[39m \u001b[39mfloat\u001b[39m(_x), \u001b[39mfloat\u001b[39m(_y)\n",
      "File \u001b[0;32m~/Desktop/img_sat_mdoel/.venv/lib/python3.11/site-packages/IPython/core/interactiveshell.py:284\u001b[0m, in \u001b[0;36m_modified_open\u001b[0;34m(file, *args, **kwargs)\u001b[0m\n\u001b[1;32m    277\u001b[0m \u001b[39mif\u001b[39;00m file \u001b[39min\u001b[39;00m {\u001b[39m0\u001b[39m, \u001b[39m1\u001b[39m, \u001b[39m2\u001b[39m}:\n\u001b[1;32m    278\u001b[0m     \u001b[39mraise\u001b[39;00m \u001b[39mValueError\u001b[39;00m(\n\u001b[1;32m    279\u001b[0m         \u001b[39mf\u001b[39m\u001b[39m\"\u001b[39m\u001b[39mIPython won\u001b[39m\u001b[39m'\u001b[39m\u001b[39mt let you open fd=\u001b[39m\u001b[39m{\u001b[39;00mfile\u001b[39m}\u001b[39;00m\u001b[39m by default \u001b[39m\u001b[39m\"\u001b[39m\n\u001b[1;32m    280\u001b[0m         \u001b[39m\"\u001b[39m\u001b[39mas it is likely to crash IPython. If you know what you are doing, \u001b[39m\u001b[39m\"\u001b[39m\n\u001b[1;32m    281\u001b[0m         \u001b[39m\"\u001b[39m\u001b[39myou can use builtins\u001b[39m\u001b[39m'\u001b[39m\u001b[39m open.\u001b[39m\u001b[39m\"\u001b[39m\n\u001b[1;32m    282\u001b[0m     )\n\u001b[0;32m--> 284\u001b[0m \u001b[39mreturn\u001b[39;00m io_open(file, \u001b[39m*\u001b[39;49margs, \u001b[39m*\u001b[39;49m\u001b[39m*\u001b[39;49mkwargs)\n",
      "\u001b[0;31mFileNotFoundError\u001b[0m: [Errno 2] No such file or directory: '../input/grid_sizes.csv'"
     ]
    }
   ],
   "source": [
    "# Load grid size\n",
    "x_max = y_min = None\n",
    "for _im_id, _x, _y in csv.reader(open('../input/grid_sizes.csv')):\n",
    "    if _im_id == IM_ID:\n",
    "        x_max, y_min = float(_x), float(_y)\n",
    "        break\n",
    "print (x_max)\n",
    "print (y_min)\n",
    "# Load train poly with shapely\n",
    "train_polygons = None\n",
    "for _im_id, _poly_type, _poly in csv.reader(open('../input/train_wkt_v4.csv')):\n",
    "    if _im_id == IM_ID and _poly_type == POLY_TYPE:\n",
    "        train_polygons = shapely.wkt.loads(_poly)\n",
    "        break\n",
    "\n",
    "# Read image with tiff\n",
    "im_rgb = tiff.imread('../input/three_band/{}.tif'.format(IM_ID)).transpose([1, 2, 0])\n",
    "im_size = im_rgb.shape[:2]\n",
    "print (im_size)"
   ]
  },
  {
   "cell_type": "code",
   "execution_count": null,
   "metadata": {},
   "outputs": [],
   "source": []
  }
 ],
 "metadata": {
  "kernelspec": {
   "display_name": ".venv",
   "language": "python",
   "name": "python3"
  },
  "language_info": {
   "codemirror_mode": {
    "name": "ipython",
    "version": 3
   },
   "file_extension": ".py",
   "mimetype": "text/x-python",
   "name": "python",
   "nbconvert_exporter": "python",
   "pygments_lexer": "ipython3",
   "version": "3.11.3"
  },
  "orig_nbformat": 4
 },
 "nbformat": 4,
 "nbformat_minor": 2
}
