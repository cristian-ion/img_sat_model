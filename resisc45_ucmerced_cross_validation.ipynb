{
 "cells": [
  {
   "cell_type": "code",
   "execution_count": 5,
   "metadata": {},
   "outputs": [],
   "source": [
    "import itertools\n",
    "\n",
    "from utils import (\n",
    "    DatasetConfig,\n",
    "    DatasetTypeEnum,\n",
    "    DatasetResisc45,\n",
    "    DataLoader,\n",
    "    PretrainedModelsEnum,\n",
    "    resnet18_img_transforms_train,\n",
    "    resnet18_img_transforms_validation,\n",
    "    get_pretrained_model,\n",
    "    get_cross_entropy_loss,\n",
    "    get_sgd_optimizer,\n",
    "    CNNHyperParams,\n",
    "    train_one_epoch,\n",
    "    val_one_epoch,\n",
    ")"
   ]
  },
  {
   "cell_type": "code",
   "execution_count": 2,
   "metadata": {},
   "outputs": [],
   "source": [
    "datasets = [\"dataset_ucmerced.csv\", \"dataset_resisc45.csv\"]\n",
    "models = PretrainedModelsEnum.resnet18\n",
    "kfolds = 5\n",
    "models_path = \"./models\"\n",
    "\n",
    "#  todo: store csv table with model configurations: PretrainedModelConfig save as CSV with rows for each model configuration;\n",
    "# use models_config.csv\n",
    "\n",
    "\n",
    "# hyperparameters\n",
    "cnn_hyper_params = CNNHyperParams(\n",
    "    model_name=PretrainedModelsEnum.resnet18,\n",
    "    num_classes=45,\n",
    "    batch_size=64,\n",
    "    num_epochs=20,\n",
    "    criterion_name=\"cross_entropy\",\n",
    "    optimizer_name=\"sgd\",\n",
    ")\n"
   ]
  },
  {
   "cell_type": "code",
   "execution_count": null,
   "metadata": {},
   "outputs": [],
   "source": [
    "def train_val_dataloaders(dataset_file: str, batch_size: int, val_fold: int):\n",
    "    train_config = DatasetConfig(\n",
    "        dataset_file=dataset_file,\n",
    "        transform=resnet18_img_transforms_train(),\n",
    "        dataset_type=DatasetTypeEnum.train,\n",
    "        val_fold=val_fold,\n",
    "    )\n",
    "    val_config = DatasetConfig(\n",
    "        dataset_file=dataset_file,\n",
    "        transform=resnet18_img_transforms_validation(),\n",
    "        dataset_type=DatasetTypeEnum.val,\n",
    "        val_fold=val_fold,\n",
    "    )\n",
    "\n",
    "    train_set = DatasetResisc45(train_config)\n",
    "    val_set = DatasetResisc45(val_config)\n",
    "\n",
    "    num_classes = train_set.num_classes\n",
    "\n",
    "    train_dataloader = DataLoader(train_set, batch_size=batch_size, shuffle=True)\n",
    "    val_dataloader = DataLoader(val_set, batch_size=batch_size, shuffle=False)\n",
    "\n",
    "    return train_dataloader, val_dataloader\n"
   ]
  },
  {
   "cell_type": "code",
   "execution_count": 3,
   "metadata": {},
   "outputs": [],
   "source": [
    "def train_model_on_fold(model_name, dataset_file, val_fold, save_path):\n",
    "    print(model_name, dataset_file, val_fold, save_path)\n",
    "    train_data, val_data = train_val_dataloaders(dataset_file)\n",
    "\n",
    "    model = get_pretrained_model(model_name)\n",
    "\n",
    "    if criterion_name == \"cross_entropy\":\n",
    "        criterion = get_cross_entropy_loss()\n",
    "    if optimizer_name == 'sgd':\n",
    "        optimizer = get_sgd_optimizer(model, feature_extract=True, lr=0.001, momentum=0.9)\n",
    "\n",
    "    for t in range(num_epochs):\n",
    "        train_one_epoch()\n",
    "        val_one_epoch()\n",
    "    print(\"done.\")\n",
    "    # save best torch model in save_path / dataset_file / model_name / val_fold\n"
   ]
  },
  {
   "cell_type": "code",
   "execution_count": 4,
   "metadata": {},
   "outputs": [
    {
     "name": "stdout",
     "output_type": "stream",
     "text": [
      "resnet18 dataset_ucmerced.csv 0 ./models\n",
      "resnet18 dataset_ucmerced.csv 1 ./models\n",
      "resnet18 dataset_ucmerced.csv 2 ./models\n",
      "resnet18 dataset_ucmerced.csv 3 ./models\n",
      "resnet18 dataset_ucmerced.csv 4 ./models\n",
      "resnet18 dataset_resisc45.csv 0 ./models\n",
      "resnet18 dataset_resisc45.csv 1 ./models\n",
      "resnet18 dataset_resisc45.csv 2 ./models\n",
      "resnet18 dataset_resisc45.csv 3 ./models\n",
      "resnet18 dataset_resisc45.csv 4 ./models\n"
     ]
    }
   ],
   "source": [
    "for dataset_file, model_name, val_fold in itertools.product(datasets, models, range(kfolds)):\n",
    "    train_model_on_fold(model_name, dataset_file, val_fold, save_path=models_path)\n"
   ]
  },
  {
   "cell_type": "code",
   "execution_count": null,
   "metadata": {},
   "outputs": [],
   "source": []
  }
 ],
 "metadata": {
  "kernelspec": {
   "display_name": ".venv",
   "language": "python",
   "name": "python3"
  },
  "language_info": {
   "codemirror_mode": {
    "name": "ipython",
    "version": 3
   },
   "file_extension": ".py",
   "mimetype": "text/x-python",
   "name": "python",
   "nbconvert_exporter": "python",
   "pygments_lexer": "ipython3",
   "version": "3.11.3"
  },
  "orig_nbformat": 4
 },
 "nbformat": 4,
 "nbformat_minor": 2
}
