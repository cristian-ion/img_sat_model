{
 "cells": [
  {
   "cell_type": "code",
   "execution_count": null,
   "metadata": {},
   "outputs": [],
   "source": [
    "import itertools\n",
    "\n",
    "from utils import (\n",
    "    DatasetConfig,\n",
    "    DatasetTypeEnum,\n",
    "    DatasetResisc45,\n",
    "    DataLoader,\n",
    "    get_pretrained_model,\n",
    "    get_cross_entropy_loss,\n",
    "    get_sgd_optimizer,\n",
    "    CNNHyperParams,\n",
    "    train_one_epoch,\n",
    "    val_one_epoch,\n",
    ")\n",
    "from utils import *\n",
    "\n",
    "import pandas as pd"
   ]
  },
  {
   "cell_type": "code",
   "execution_count": null,
   "metadata": {},
   "outputs": [],
   "source": [
    "cnn_models = [\n",
    "    get_cnn_hyper_params_1(),\n",
    "    get_cnn_hyper_params_3(),\n",
    "]\n",
    "kfolds = 5\n",
    "models_path = \"./cls_models\"\n"
   ]
  },
  {
   "cell_type": "code",
   "execution_count": null,
   "metadata": {},
   "outputs": [],
   "source": [
    "print(cnn_models)"
   ]
  },
  {
   "cell_type": "code",
   "execution_count": null,
   "metadata": {},
   "outputs": [],
   "source": [
    "def train_val_dataloaders(hyperparams: CNNHyperParams, val_fold: int):\n",
    "    train_config = DatasetConfig(\n",
    "        dataset_file=hyperparams.dataset_file,\n",
    "        transform=hyperparams.train_transforms,\n",
    "        dataset_type=DatasetTypeEnum.train,\n",
    "        val_fold=val_fold,\n",
    "    )\n",
    "    val_config = DatasetConfig(\n",
    "        dataset_file=hyperparams.dataset_file,\n",
    "        transform=hyperparams.val_transforms,\n",
    "        dataset_type=DatasetTypeEnum.val,\n",
    "        val_fold=val_fold,\n",
    "    )\n",
    "\n",
    "    train_set = DatasetResisc45(train_config)\n",
    "    val_set = DatasetResisc45(val_config)\n",
    "\n",
    "    train_dataloader = DataLoader(train_set, batch_size=hyperparams.batch_size, shuffle=True)\n",
    "    val_dataloader = DataLoader(val_set, batch_size=hyperparams.batch_size, shuffle=False)\n",
    "\n",
    "    return train_dataloader, val_dataloader\n"
   ]
  },
  {
   "cell_type": "code",
   "execution_count": null,
   "metadata": {},
   "outputs": [],
   "source": [
    "def train_model_on_fold(hyperparams: CNNHyperParams, val_fold: int, save_path: str):\n",
    "    print(hyperparams.model_name, hyperparams.dataset_file, val_fold, save_path)\n",
    "\n",
    "    with open(f\"{models_path}/model_{hyperparams.dataset_file}_{val_fold}\", \"w\") as f:\n",
    "        f.write(f\"{str(hyperparams)}; {val_fold}; {save_path}\")\n",
    "\n",
    "    train_data, val_data = train_val_dataloaders(hyperparams, val_fold)\n",
    "\n",
    "    cnn_model, input_size = get_pretrained_model(hyperparams)\n",
    "    cnn_model.to(get_device())\n",
    "\n",
    "    if hyperparams.criterion_name == \"cross_entropy\":\n",
    "        criterion = get_cross_entropy_loss()\n",
    "    if hyperparams.optimizer_name == 'sgd':\n",
    "        optimizer = get_sgd_optimizer(cnn_model, feature_extract=hyperparams.feature_extract, lr=0.001, momentum=0.9)\n",
    "\n",
    "    train_losses = []\n",
    "    val_losses = []\n",
    "    for epoch in range(hyperparams.num_epochs):\n",
    "        print(f\"Epoch {epoch+1}\\n-------------------------------\")\n",
    "        train_loss = train_one_epoch(criterion, optimizer, train_data, cnn_model, device=get_device())\n",
    "        val_loss = val_one_epoch(criterion, val_data, cnn_model, device=get_device())\n",
    "        train_losses.append(train_loss)\n",
    "        val_losses.append(val_loss)\n",
    "    torch.save(cnn_model, f\"{models_path}/model_{hyperparams.dataset_file}_{val_fold}.pt\")\n",
    "    \n",
    "    pd.DataFrame({\n",
    "        'train_losses': train_losses,\n",
    "        'val_losses': val_losses,\n",
    "    }).to_csv(f\"{models_path}/model_{hyperparams.dataset_file}_{val_fold}_loss.csv\")\n",
    "\n",
    "    print(\"done.\")\n",
    "    # save best torch model in save_path / dataset_file / model_name / val_fold\n"
   ]
  },
  {
   "cell_type": "code",
   "execution_count": null,
   "metadata": {},
   "outputs": [],
   "source": [
    "for hyperparams, val_fold in itertools.product(cnn_models, range(kfolds)):\n",
    "    train_model_on_fold(hyperparams, val_fold, save_path=models_path)\n"
   ]
  }
 ],
 "metadata": {
  "kernelspec": {
   "display_name": ".venv",
   "language": "python",
   "name": "python3"
  },
  "language_info": {
   "codemirror_mode": {
    "name": "ipython",
    "version": 3
   },
   "file_extension": ".py",
   "mimetype": "text/x-python",
   "name": "python",
   "nbconvert_exporter": "python",
   "pygments_lexer": "ipython3",
   "version": "3.11.3"
  },
  "orig_nbformat": 4
 },
 "nbformat": 4,
 "nbformat_minor": 2
}
