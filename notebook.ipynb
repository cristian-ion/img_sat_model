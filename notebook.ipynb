{
 "cells": [
  {
   "cell_type": "code",
   "execution_count": null,
   "metadata": {},
   "outputs": [],
   "source": [
    "import pandas as pd\n",
    "import torch as th\n",
    "from torch.utils.data import DataLoader, Dataset\n",
    "import albumentations as A\n",
    "from albumentations.pytorch import ToTensorV2\n",
    "\n",
    "from solution.dstl_detection.dstl_dataset import DstlDataset\n",
    "from solution.dstl_detection.dstl_train import DstlTrain"
   ]
  },
  {
   "cell_type": "code",
   "execution_count": null,
   "metadata": {},
   "outputs": [],
   "source": [
    "MODEL_NAME = \"dstl_model\"\n",
    "LOCATION = \"models/dstl\"\n",
    "DSTL_PATH = \"/Users/cristianion/Desktop/satimg_data/DSTL\"\n",
    "TRAIN_WKT_FILE = DSTL_PATH + \"/train_wkt_v4.csv\"\n",
    "GRID_SIZES_FILE = DSTL_PATH + \"/grid_sizes.csv\"\n",
    "\n",
    "IMAGES_MULTICHANNEL = DSTL_PATH + \"/sixteen_band\"\n",
    "IMAGES_RGB = DSTL_PATH + \"/three_band\"\n",
    "\n",
    "# Column names\n",
    "COL_MULTIPOLYGONWKT = \"MultipolygonWKT\"\n",
    "COL_CLASSTYPE = \"ClassType\"\n",
    "COL_IMAGEID = \"ImageId\"\n",
    "COL_XMAX = \"Xmax\"\n",
    "COL_YMIN = \"Ymin\"\n",
    "\n",
    "# Image extension\n",
    "EXT_TIFF = \".tif\"\n",
    "\n",
    "\n",
    "# resize parameters\n",
    "IMAGE_RES_X = 512\n",
    "IMAGE_RES_Y = 512\n",
    "\n",
    "\n",
    "CLASSES = [\"building\", \"structures\", \"road\", \"track\", \"tree\", \"crops\", \"waterway\", \"standing_water\", \"vehicle_large\", \"vehicle_small\"]\n"
   ]
  },
  {
   "cell_type": "code",
   "execution_count": null,
   "metadata": {},
   "outputs": [],
   "source": [
    "DSTL_TRAIN_TRANSFORM = A.Compose([\n",
    "    A.Resize(height=IMAGE_RES_Y, width=IMAGE_RES_X),\n",
    "    A.Normalize(\n",
    "        mean=[0.0, 0.0, 0.0],\n",
    "        std=[1.0, 1.0, 1.0],\n",
    "        max_pixel_value=255.0,\n",
    "    ),\n",
    "    ToTensorV2(),\n",
    "])\n",
    "\n",
    "DSTL_VAL_TRANSFORM = A.Compose([\n",
    "    A.Resize(height=IMAGE_RES_Y, width=IMAGE_RES_X),\n",
    "    A.Normalize(\n",
    "        mean=[0.0, 0.0, 0.0],\n",
    "        std=[1.0, 1.0, 1.0],\n",
    "        max_pixel_value=255.0,\n",
    "    ),\n",
    "    ToTensorV2(),\n",
    "])"
   ]
  },
  {
   "cell_type": "code",
   "execution_count": null,
   "metadata": {},
   "outputs": [],
   "source": [
    "dataset = DstlDataset(DSTL_TRAIN_TRANSFORM, train_file=TRAIN_WKT_FILE, grid_sizes_file=GRID_SIZES_FILE, classes=CLASSES, train_res_x=IMAGE_RES_X, train_res_y=IMAGE_RES_Y)"
   ]
  },
  {
   "cell_type": "code",
   "execution_count": null,
   "metadata": {},
   "outputs": [],
   "source": [
    "# image and mask stats\n",
    "image, mask = dataset[0]"
   ]
  },
  {
   "cell_type": "code",
   "execution_count": null,
   "metadata": {},
   "outputs": [],
   "source": [
    "print(\"Image shape \" + str(image.shape))\n",
    "print(\"Mask shape \" + str(mask.shape))"
   ]
  },
  {
   "cell_type": "code",
   "execution_count": null,
   "metadata": {},
   "outputs": [],
   "source": [
    "dstl_valset = DstlDataset(DSTL_VAL_TRANSFORM, train_file=TRAIN_WKT_FILE, grid_sizes_file=GRID_SIZES_FILE, classes=CLASSES, train_res_x=IMAGE_RES_X, train_res_y=IMAGE_RES_Y)"
   ]
  },
  {
   "cell_type": "code",
   "execution_count": null,
   "metadata": {},
   "outputs": [],
   "source": [
    "\n",
    "dstl_train = DstlTrain(dataset, dstl_valset)"
   ]
  },
  {
   "cell_type": "code",
   "execution_count": null,
   "metadata": {},
   "outputs": [],
   "source": [
    "dstl_train.train()"
   ]
  },
  {
   "cell_type": "code",
   "execution_count": null,
   "metadata": {},
   "outputs": [],
   "source": []
  },
  {
   "cell_type": "code",
   "execution_count": 21,
   "metadata": {},
   "outputs": [
    {
     "name": "stdout",
     "output_type": "stream",
     "text": [
      "1\n",
      "True\n",
      "MULTIPOLYGON (((0 0, 0 1, 1 1, 1 0, 0 0), (0.3 0.3, 0.3 0.4, 0.4 0.4, 0.4 0.3, 0.3 0.3)))\n"
     ]
    }
   ],
   "source": [
    "from shapely import MultiPolygon, Polygon\n",
    "ob = MultiPolygon([\n",
    "    (\n",
    "    ((0.0, 0.0), (0.0, 1.0), (1.0, 1.0), (1.0, 0.0)),\n",
    "    [((0.3,0.3), (0.3,0.4), (0.4,0.4), (0.4,0.3))]\n",
    "    )\n",
    "])\n",
    "\n",
    "print(len(ob.geoms))\n",
    "print(type(ob.geoms[0]) == Polygon)\n",
    "print(ob)"
   ]
  },
  {
   "cell_type": "code",
   "execution_count": 22,
   "metadata": {},
   "outputs": [
    {
     "data": {
      "image/svg+xml": [
       "<svg xmlns=\"http://www.w3.org/2000/svg\" xmlns:xlink=\"http://www.w3.org/1999/xlink\" width=\"100.0\" height=\"100.0\" viewBox=\"-0.04 -0.04 1.08 1.08\" preserveAspectRatio=\"xMinYMin meet\"><g transform=\"matrix(1,0,0,-1,0,1.0)\"><polyline fill=\"none\" stroke=\"#66cc99\" stroke-width=\"0.0216\" points=\"0.0,0.0 0.0,1.0 1.0,1.0 1.0,0.0 0.0,0.0\" opacity=\"0.8\" /></g></svg>"
      ],
      "text/plain": [
       "<LINEARRING (0 0, 0 1, 1 1, 1 0, 0 0)>"
      ]
     },
     "execution_count": 22,
     "metadata": {},
     "output_type": "execute_result"
    }
   ],
   "source": [
    "ob.geoms[0].exterior"
   ]
  },
  {
   "cell_type": "code",
   "execution_count": 23,
   "metadata": {},
   "outputs": [
    {
     "data": {
      "image/svg+xml": [
       "<svg xmlns=\"http://www.w3.org/2000/svg\" xmlns:xlink=\"http://www.w3.org/1999/xlink\" width=\"100.0\" height=\"100.0\" viewBox=\"0.296 0.296 0.10800000000000004 0.10800000000000004\" preserveAspectRatio=\"xMinYMin meet\"><g transform=\"matrix(1,0,0,-1,0,0.7)\"><polyline fill=\"none\" stroke=\"#66cc99\" stroke-width=\"0.002160000000000001\" points=\"0.3,0.3 0.3,0.4 0.4,0.4 0.4,0.3 0.3,0.3\" opacity=\"0.8\" /></g></svg>"
      ],
      "text/plain": [
       "<LINEARRING (0.3 0.3, 0.3 0.4, 0.4 0.4, 0.4 0.3, 0.3 0.3)>"
      ]
     },
     "execution_count": 23,
     "metadata": {},
     "output_type": "execute_result"
    }
   ],
   "source": [
    "ob.geoms[0].interiors[0]"
   ]
  },
  {
   "cell_type": "code",
   "execution_count": null,
   "metadata": {},
   "outputs": [],
   "source": [
    "\n"
   ]
  },
  {
   "cell_type": "code",
   "execution_count": null,
   "metadata": {},
   "outputs": [],
   "source": []
  },
  {
   "cell_type": "code",
   "execution_count": 5,
   "metadata": {},
   "outputs": [],
   "source": [
    "path = \"/Users/cristianion/Desktop/visual_recognition_train/models/dstl/dstl_model_1_2023_09_21_20_36_51_val.tsv\"\n",
    "\n",
    "import pandas as pd\n",
    "\n",
    "df = pd.read_csv(path, sep='\\t')"
   ]
  },
  {
   "cell_type": "code",
   "execution_count": 6,
   "metadata": {},
   "outputs": [
    {
     "data": {
      "text/html": [
       "<div>\n",
       "<style scoped>\n",
       "    .dataframe tbody tr th:only-of-type {\n",
       "        vertical-align: middle;\n",
       "    }\n",
       "\n",
       "    .dataframe tbody tr th {\n",
       "        vertical-align: top;\n",
       "    }\n",
       "\n",
       "    .dataframe thead th {\n",
       "        text-align: right;\n",
       "    }\n",
       "</style>\n",
       "<table border=\"1\" class=\"dataframe\">\n",
       "  <thead>\n",
       "    <tr style=\"text-align: right;\">\n",
       "      <th></th>\n",
       "      <th>epoch</th>\n",
       "      <th>train_loss</th>\n",
       "      <th>val_loss</th>\n",
       "      <th>train_error_rate</th>\n",
       "      <th>val_error_rate</th>\n",
       "    </tr>\n",
       "  </thead>\n",
       "  <tbody>\n",
       "    <tr>\n",
       "      <th>0</th>\n",
       "      <td>0</td>\n",
       "      <td>1.301889</td>\n",
       "      <td>0.709654</td>\n",
       "      <td>0.416217</td>\n",
       "      <td>0.374589</td>\n",
       "    </tr>\n",
       "    <tr>\n",
       "      <th>1</th>\n",
       "      <td>1</td>\n",
       "      <td>0.744997</td>\n",
       "      <td>0.527355</td>\n",
       "      <td>0.194885</td>\n",
       "      <td>0.187705</td>\n",
       "    </tr>\n",
       "    <tr>\n",
       "      <th>2</th>\n",
       "      <td>2</td>\n",
       "      <td>0.830322</td>\n",
       "      <td>0.438111</td>\n",
       "      <td>0.280615</td>\n",
       "      <td>0.265113</td>\n",
       "    </tr>\n",
       "    <tr>\n",
       "      <th>3</th>\n",
       "      <td>3</td>\n",
       "      <td>0.618338</td>\n",
       "      <td>0.499981</td>\n",
       "      <td>0.328515</td>\n",
       "      <td>0.356508</td>\n",
       "    </tr>\n",
       "    <tr>\n",
       "      <th>4</th>\n",
       "      <td>4</td>\n",
       "      <td>0.473111</td>\n",
       "      <td>0.348308</td>\n",
       "      <td>0.312918</td>\n",
       "      <td>0.319832</td>\n",
       "    </tr>\n",
       "    <tr>\n",
       "      <th>5</th>\n",
       "      <td>5</td>\n",
       "      <td>0.527379</td>\n",
       "      <td>0.309640</td>\n",
       "      <td>0.295268</td>\n",
       "      <td>0.306189</td>\n",
       "    </tr>\n",
       "    <tr>\n",
       "      <th>6</th>\n",
       "      <td>6</td>\n",
       "      <td>2.703512</td>\n",
       "      <td>0.480483</td>\n",
       "      <td>0.425705</td>\n",
       "      <td>0.433344</td>\n",
       "    </tr>\n",
       "    <tr>\n",
       "      <th>7</th>\n",
       "      <td>7</td>\n",
       "      <td>0.697764</td>\n",
       "      <td>0.347143</td>\n",
       "      <td>0.331093</td>\n",
       "      <td>0.369764</td>\n",
       "    </tr>\n",
       "    <tr>\n",
       "      <th>8</th>\n",
       "      <td>8</td>\n",
       "      <td>0.794784</td>\n",
       "      <td>0.277032</td>\n",
       "      <td>0.377022</td>\n",
       "      <td>0.388599</td>\n",
       "    </tr>\n",
       "    <tr>\n",
       "      <th>9</th>\n",
       "      <td>9</td>\n",
       "      <td>0.488140</td>\n",
       "      <td>0.347244</td>\n",
       "      <td>0.367874</td>\n",
       "      <td>0.349717</td>\n",
       "    </tr>\n",
       "    <tr>\n",
       "      <th>10</th>\n",
       "      <td>10</td>\n",
       "      <td>0.506584</td>\n",
       "      <td>0.291229</td>\n",
       "      <td>0.345699</td>\n",
       "      <td>0.314748</td>\n",
       "    </tr>\n",
       "    <tr>\n",
       "      <th>11</th>\n",
       "      <td>11</td>\n",
       "      <td>0.420308</td>\n",
       "      <td>0.235650</td>\n",
       "      <td>0.371794</td>\n",
       "      <td>0.340724</td>\n",
       "    </tr>\n",
       "    <tr>\n",
       "      <th>12</th>\n",
       "      <td>12</td>\n",
       "      <td>0.451073</td>\n",
       "      <td>0.234185</td>\n",
       "      <td>0.313800</td>\n",
       "      <td>0.334007</td>\n",
       "    </tr>\n",
       "    <tr>\n",
       "      <th>13</th>\n",
       "      <td>13</td>\n",
       "      <td>0.398353</td>\n",
       "      <td>0.259542</td>\n",
       "      <td>0.363776</td>\n",
       "      <td>0.324891</td>\n",
       "    </tr>\n",
       "    <tr>\n",
       "      <th>14</th>\n",
       "      <td>14</td>\n",
       "      <td>0.476171</td>\n",
       "      <td>0.214084</td>\n",
       "      <td>0.342292</td>\n",
       "      <td>0.324568</td>\n",
       "    </tr>\n",
       "    <tr>\n",
       "      <th>15</th>\n",
       "      <td>15</td>\n",
       "      <td>0.608289</td>\n",
       "      <td>0.282550</td>\n",
       "      <td>0.337056</td>\n",
       "      <td>0.334545</td>\n",
       "    </tr>\n",
       "    <tr>\n",
       "      <th>16</th>\n",
       "      <td>16</td>\n",
       "      <td>0.537493</td>\n",
       "      <td>0.254451</td>\n",
       "      <td>0.331804</td>\n",
       "      <td>0.298046</td>\n",
       "    </tr>\n",
       "    <tr>\n",
       "      <th>17</th>\n",
       "      <td>17</td>\n",
       "      <td>0.425254</td>\n",
       "      <td>0.304142</td>\n",
       "      <td>0.359054</td>\n",
       "      <td>0.354766</td>\n",
       "    </tr>\n",
       "    <tr>\n",
       "      <th>18</th>\n",
       "      <td>18</td>\n",
       "      <td>0.832227</td>\n",
       "      <td>0.578341</td>\n",
       "      <td>0.352753</td>\n",
       "      <td>0.417914</td>\n",
       "    </tr>\n",
       "    <tr>\n",
       "      <th>19</th>\n",
       "      <td>19</td>\n",
       "      <td>0.425901</td>\n",
       "      <td>0.497500</td>\n",
       "      <td>0.352163</td>\n",
       "      <td>0.369083</td>\n",
       "    </tr>\n",
       "    <tr>\n",
       "      <th>20</th>\n",
       "      <td>20</td>\n",
       "      <td>0.355739</td>\n",
       "      <td>0.251552</td>\n",
       "      <td>0.365699</td>\n",
       "      <td>0.346006</td>\n",
       "    </tr>\n",
       "  </tbody>\n",
       "</table>\n",
       "</div>"
      ],
      "text/plain": [
       "    epoch  train_loss  val_loss  train_error_rate  val_error_rate\n",
       "0       0    1.301889  0.709654          0.416217        0.374589\n",
       "1       1    0.744997  0.527355          0.194885        0.187705\n",
       "2       2    0.830322  0.438111          0.280615        0.265113\n",
       "3       3    0.618338  0.499981          0.328515        0.356508\n",
       "4       4    0.473111  0.348308          0.312918        0.319832\n",
       "5       5    0.527379  0.309640          0.295268        0.306189\n",
       "6       6    2.703512  0.480483          0.425705        0.433344\n",
       "7       7    0.697764  0.347143          0.331093        0.369764\n",
       "8       8    0.794784  0.277032          0.377022        0.388599\n",
       "9       9    0.488140  0.347244          0.367874        0.349717\n",
       "10     10    0.506584  0.291229          0.345699        0.314748\n",
       "11     11    0.420308  0.235650          0.371794        0.340724\n",
       "12     12    0.451073  0.234185          0.313800        0.334007\n",
       "13     13    0.398353  0.259542          0.363776        0.324891\n",
       "14     14    0.476171  0.214084          0.342292        0.324568\n",
       "15     15    0.608289  0.282550          0.337056        0.334545\n",
       "16     16    0.537493  0.254451          0.331804        0.298046\n",
       "17     17    0.425254  0.304142          0.359054        0.354766\n",
       "18     18    0.832227  0.578341          0.352753        0.417914\n",
       "19     19    0.425901  0.497500          0.352163        0.369083\n",
       "20     20    0.355739  0.251552          0.365699        0.346006"
      ]
     },
     "execution_count": 6,
     "metadata": {},
     "output_type": "execute_result"
    }
   ],
   "source": [
    "df"
   ]
  },
  {
   "cell_type": "code",
   "execution_count": null,
   "metadata": {},
   "outputs": [],
   "source": []
  },
  {
   "cell_type": "code",
   "execution_count": 7,
   "metadata": {},
   "outputs": [
    {
     "data": {
      "text/plain": [
       "<Axes: xlabel='epoch'>"
      ]
     },
     "execution_count": 7,
     "metadata": {},
     "output_type": "execute_result"
    },
    {
     "data": {
      "image/png": "[encoded data removed]",
      "text/plain": [
       "<Figure size 1000x1000 with 1 Axes>"
      ]
     },
     "metadata": {},
     "output_type": "display_data"
    }
   ],
   "source": [
    "df.plot(x='epoch', y=['train_loss', 'val_loss'], figsize=(10, 10))"
   ]
  },
  {
   "cell_type": "code",
   "execution_count": 8,
   "metadata": {},
   "outputs": [
    {
     "data": {
      "text/plain": [
       "<Axes: xlabel='epoch'>"
      ]
     },
     "execution_count": 8,
     "metadata": {},
     "output_type": "execute_result"
    },
    {
     "data": {
      "image/png": "[encoded data removed]",
      "text/plain": [
       "<Figure size 640x480 with 1 Axes>"
      ]
     },
     "metadata": {},
     "output_type": "display_data"
    }
   ],
   "source": [
    "df.plot(x='epoch', y=['train_error_rate', 'val_error_rate'])"
   ]
  },
  {
   "cell_type": "code",
   "execution_count": 2,
   "metadata": {},
   "outputs": [],
   "source": [
    "\n",
    "SAMPLE_SUBMISSION = \"/Users/cristianion/Desktop/satimg_data/DSTL/sample_submission.csv\"\n",
    "TRAIN_WKT = \"/Users/cristianion/Desktop/satimg_data/DSTL/train_wkt_v4.csv\"\n"
   ]
  },
  {
   "cell_type": "code",
   "execution_count": 3,
   "metadata": {},
   "outputs": [],
   "source": [
    "import pandas as pd"
   ]
  },
  {
   "cell_type": "code",
   "execution_count": 4,
   "metadata": {},
   "outputs": [],
   "source": [
    "train_df = pd.read_csv(TRAIN_WKT)\n",
    "subm_df = pd.read_csv(SAMPLE_SUBMISSION)"
   ]
  },
  {
   "cell_type": "code",
   "execution_count": 5,
   "metadata": {},
   "outputs": [],
   "source": [
    "train_images = train_df[\"ImageId\"].unique()"
   ]
  },
  {
   "cell_type": "code",
   "execution_count": 6,
   "metadata": {},
   "outputs": [],
   "source": [
    "submit_images = subm_df[\"ImageId\"].unique()"
   ]
  },
  {
   "cell_type": "code",
   "execution_count": 7,
   "metadata": {},
   "outputs": [
    {
     "data": {
      "text/plain": [
       "25"
      ]
     },
     "execution_count": 7,
     "metadata": {},
     "output_type": "execute_result"
    }
   ],
   "source": [
    "len(train_images)"
   ]
  },
  {
   "cell_type": "code",
   "execution_count": 8,
   "metadata": {},
   "outputs": [
    {
     "data": {
      "text/plain": [
       "429"
      ]
     },
     "execution_count": 8,
     "metadata": {},
     "output_type": "execute_result"
    }
   ],
   "source": [
    "len(submit_images)"
   ]
  },
  {
   "cell_type": "code",
   "execution_count": 9,
   "metadata": {},
   "outputs": [
    {
     "data": {
      "text/html": [
       "<div>\n",
       "<style scoped>\n",
       "    .dataframe tbody tr th:only-of-type {\n",
       "        vertical-align: middle;\n",
       "    }\n",
       "\n",
       "    .dataframe tbody tr th {\n",
       "        vertical-align: top;\n",
       "    }\n",
       "\n",
       "    .dataframe thead th {\n",
       "        text-align: right;\n",
       "    }\n",
       "</style>\n",
       "<table border=\"1\" class=\"dataframe\">\n",
       "  <thead>\n",
       "    <tr style=\"text-align: right;\">\n",
       "      <th></th>\n",
       "      <th>ImageId</th>\n",
       "      <th>ClassType</th>\n",
       "      <th>MultipolygonWKT</th>\n",
       "    </tr>\n",
       "  </thead>\n",
       "  <tbody>\n",
       "    <tr>\n",
       "      <th>0</th>\n",
       "      <td>6120_2_4</td>\n",
       "      <td>1</td>\n",
       "      <td>POLYGON ((0 0, 0.009188 0, 0.009188 -0.0090399...</td>\n",
       "    </tr>\n",
       "    <tr>\n",
       "      <th>1</th>\n",
       "      <td>6120_2_4</td>\n",
       "      <td>2</td>\n",
       "      <td>POLYGON ((0 0, 0.009188 0, 0.009188 -0.0090399...</td>\n",
       "    </tr>\n",
       "    <tr>\n",
       "      <th>2</th>\n",
       "      <td>6120_2_4</td>\n",
       "      <td>3</td>\n",
       "      <td>POLYGON ((0 0, 0.009188 0, 0.009188 -0.0090399...</td>\n",
       "    </tr>\n",
       "    <tr>\n",
       "      <th>3</th>\n",
       "      <td>6120_2_4</td>\n",
       "      <td>4</td>\n",
       "      <td>POLYGON ((0 0, 0.009188 0, 0.009188 -0.0090399...</td>\n",
       "    </tr>\n",
       "    <tr>\n",
       "      <th>4</th>\n",
       "      <td>6120_2_4</td>\n",
       "      <td>5</td>\n",
       "      <td>POLYGON ((0 0, 0.009188 0, 0.009188 -0.0090399...</td>\n",
       "    </tr>\n",
       "    <tr>\n",
       "      <th>...</th>\n",
       "      <td>...</td>\n",
       "      <td>...</td>\n",
       "      <td>...</td>\n",
       "    </tr>\n",
       "    <tr>\n",
       "      <th>4285</th>\n",
       "      <td>6130_1_0</td>\n",
       "      <td>6</td>\n",
       "      <td>POLYGON ((0 0, 0.009188 0, 0.009188 -0.0090399...</td>\n",
       "    </tr>\n",
       "    <tr>\n",
       "      <th>4286</th>\n",
       "      <td>6130_1_0</td>\n",
       "      <td>7</td>\n",
       "      <td>POLYGON ((0 0, 0.009188 0, 0.009188 -0.0090399...</td>\n",
       "    </tr>\n",
       "    <tr>\n",
       "      <th>4287</th>\n",
       "      <td>6130_1_0</td>\n",
       "      <td>8</td>\n",
       "      <td>POLYGON ((0 0, 0.009188 0, 0.009188 -0.0090399...</td>\n",
       "    </tr>\n",
       "    <tr>\n",
       "      <th>4288</th>\n",
       "      <td>6130_1_0</td>\n",
       "      <td>9</td>\n",
       "      <td>POLYGON ((0 0, 0.009188 0, 0.009188 -0.0090399...</td>\n",
       "    </tr>\n",
       "    <tr>\n",
       "      <th>4289</th>\n",
       "      <td>6130_1_0</td>\n",
       "      <td>10</td>\n",
       "      <td>POLYGON ((0 0, 0.009188 0, 0.009188 -0.0090399...</td>\n",
       "    </tr>\n",
       "  </tbody>\n",
       "</table>\n",
       "<p>4290 rows × 3 columns</p>\n",
       "</div>"
      ],
      "text/plain": [
       "       ImageId  ClassType                                    MultipolygonWKT\n",
       "0     6120_2_4          1  POLYGON ((0 0, 0.009188 0, 0.009188 -0.0090399...\n",
       "1     6120_2_4          2  POLYGON ((0 0, 0.009188 0, 0.009188 -0.0090399...\n",
       "2     6120_2_4          3  POLYGON ((0 0, 0.009188 0, 0.009188 -0.0090399...\n",
       "3     6120_2_4          4  POLYGON ((0 0, 0.009188 0, 0.009188 -0.0090399...\n",
       "4     6120_2_4          5  POLYGON ((0 0, 0.009188 0, 0.009188 -0.0090399...\n",
       "...        ...        ...                                                ...\n",
       "4285  6130_1_0          6  POLYGON ((0 0, 0.009188 0, 0.009188 -0.0090399...\n",
       "4286  6130_1_0          7  POLYGON ((0 0, 0.009188 0, 0.009188 -0.0090399...\n",
       "4287  6130_1_0          8  POLYGON ((0 0, 0.009188 0, 0.009188 -0.0090399...\n",
       "4288  6130_1_0          9  POLYGON ((0 0, 0.009188 0, 0.009188 -0.0090399...\n",
       "4289  6130_1_0         10  POLYGON ((0 0, 0.009188 0, 0.009188 -0.0090399...\n",
       "\n",
       "[4290 rows x 3 columns]"
      ]
     },
     "execution_count": 9,
     "metadata": {},
     "output_type": "execute_result"
    }
   ],
   "source": [
    "subm_df"
   ]
  },
  {
   "cell_type": "code",
   "execution_count": 22,
   "metadata": {},
   "outputs": [],
   "source": [
    "train_sub = set(train_images).intersection(set(submit_images))"
   ]
  },
  {
   "cell_type": "code",
   "execution_count": 18,
   "metadata": {},
   "outputs": [
    {
     "data": {
      "text/html": [
       "<div>\n",
       "<style scoped>\n",
       "    .dataframe tbody tr th:only-of-type {\n",
       "        vertical-align: middle;\n",
       "    }\n",
       "\n",
       "    .dataframe tbody tr th {\n",
       "        vertical-align: top;\n",
       "    }\n",
       "\n",
       "    .dataframe thead th {\n",
       "        text-align: right;\n",
       "    }\n",
       "</style>\n",
       "<table border=\"1\" class=\"dataframe\">\n",
       "  <thead>\n",
       "    <tr style=\"text-align: right;\">\n",
       "      <th></th>\n",
       "      <th>ImageId</th>\n",
       "      <th>ClassType</th>\n",
       "      <th>MultipolygonWKT</th>\n",
       "    </tr>\n",
       "  </thead>\n",
       "  <tbody>\n",
       "    <tr>\n",
       "      <th>220</th>\n",
       "      <td>6010_1_2</td>\n",
       "      <td>1</td>\n",
       "      <td>MULTIPOLYGON EMPTY</td>\n",
       "    </tr>\n",
       "    <tr>\n",
       "      <th>221</th>\n",
       "      <td>6010_1_2</td>\n",
       "      <td>2</td>\n",
       "      <td>MULTIPOLYGON (((0.008926999999999999 -0.008574...</td>\n",
       "    </tr>\n",
       "    <tr>\n",
       "      <th>222</th>\n",
       "      <td>6010_1_2</td>\n",
       "      <td>3</td>\n",
       "      <td>MULTIPOLYGON EMPTY</td>\n",
       "    </tr>\n",
       "    <tr>\n",
       "      <th>223</th>\n",
       "      <td>6010_1_2</td>\n",
       "      <td>4</td>\n",
       "      <td>MULTIPOLYGON (((0.008765 -0.007289, 0.00885 -0...</td>\n",
       "    </tr>\n",
       "    <tr>\n",
       "      <th>224</th>\n",
       "      <td>6010_1_2</td>\n",
       "      <td>5</td>\n",
       "      <td>MULTIPOLYGON (((0.007405 -0.009022000000000001...</td>\n",
       "    </tr>\n",
       "    <tr>\n",
       "      <th>225</th>\n",
       "      <td>6010_1_2</td>\n",
       "      <td>6</td>\n",
       "      <td>MULTIPOLYGON EMPTY</td>\n",
       "    </tr>\n",
       "    <tr>\n",
       "      <th>226</th>\n",
       "      <td>6010_1_2</td>\n",
       "      <td>7</td>\n",
       "      <td>MULTIPOLYGON EMPTY</td>\n",
       "    </tr>\n",
       "    <tr>\n",
       "      <th>227</th>\n",
       "      <td>6010_1_2</td>\n",
       "      <td>8</td>\n",
       "      <td>MULTIPOLYGON EMPTY</td>\n",
       "    </tr>\n",
       "    <tr>\n",
       "      <th>228</th>\n",
       "      <td>6010_1_2</td>\n",
       "      <td>9</td>\n",
       "      <td>MULTIPOLYGON EMPTY</td>\n",
       "    </tr>\n",
       "    <tr>\n",
       "      <th>229</th>\n",
       "      <td>6010_1_2</td>\n",
       "      <td>10</td>\n",
       "      <td>MULTIPOLYGON EMPTY</td>\n",
       "    </tr>\n",
       "  </tbody>\n",
       "</table>\n",
       "</div>"
      ],
      "text/plain": [
       "      ImageId  ClassType                                    MultipolygonWKT\n",
       "220  6010_1_2          1                                 MULTIPOLYGON EMPTY\n",
       "221  6010_1_2          2  MULTIPOLYGON (((0.008926999999999999 -0.008574...\n",
       "222  6010_1_2          3                                 MULTIPOLYGON EMPTY\n",
       "223  6010_1_2          4  MULTIPOLYGON (((0.008765 -0.007289, 0.00885 -0...\n",
       "224  6010_1_2          5  MULTIPOLYGON (((0.007405 -0.009022000000000001...\n",
       "225  6010_1_2          6                                 MULTIPOLYGON EMPTY\n",
       "226  6010_1_2          7                                 MULTIPOLYGON EMPTY\n",
       "227  6010_1_2          8                                 MULTIPOLYGON EMPTY\n",
       "228  6010_1_2          9                                 MULTIPOLYGON EMPTY\n",
       "229  6010_1_2         10                                 MULTIPOLYGON EMPTY"
      ]
     },
     "execution_count": 18,
     "metadata": {},
     "output_type": "execute_result"
    }
   ],
   "source": [
    "train_df[train_df.ImageId == '6010_1_2']"
   ]
  },
  {
   "cell_type": "code",
   "execution_count": 19,
   "metadata": {},
   "outputs": [
    {
     "data": {
      "text/html": [
       "<div>\n",
       "<style scoped>\n",
       "    .dataframe tbody tr th:only-of-type {\n",
       "        vertical-align: middle;\n",
       "    }\n",
       "\n",
       "    .dataframe tbody tr th {\n",
       "        vertical-align: top;\n",
       "    }\n",
       "\n",
       "    .dataframe thead th {\n",
       "        text-align: right;\n",
       "    }\n",
       "</style>\n",
       "<table border=\"1\" class=\"dataframe\">\n",
       "  <thead>\n",
       "    <tr style=\"text-align: right;\">\n",
       "      <th></th>\n",
       "      <th>ImageId</th>\n",
       "      <th>ClassType</th>\n",
       "      <th>MultipolygonWKT</th>\n",
       "    </tr>\n",
       "  </thead>\n",
       "  <tbody>\n",
       "    <tr>\n",
       "      <th>1030</th>\n",
       "      <td>6010_1_2</td>\n",
       "      <td>1</td>\n",
       "      <td>POLYGON ((0 0, 0.009169 0, 0.009169 -0.009042,...</td>\n",
       "    </tr>\n",
       "    <tr>\n",
       "      <th>1031</th>\n",
       "      <td>6010_1_2</td>\n",
       "      <td>2</td>\n",
       "      <td>POLYGON ((0 0, 0.009169 0, 0.009169 -0.009042,...</td>\n",
       "    </tr>\n",
       "    <tr>\n",
       "      <th>1032</th>\n",
       "      <td>6010_1_2</td>\n",
       "      <td>3</td>\n",
       "      <td>POLYGON ((0 0, 0.009169 0, 0.009169 -0.009042,...</td>\n",
       "    </tr>\n",
       "    <tr>\n",
       "      <th>1033</th>\n",
       "      <td>6010_1_2</td>\n",
       "      <td>4</td>\n",
       "      <td>POLYGON ((0 0, 0.009169 0, 0.009169 -0.009042,...</td>\n",
       "    </tr>\n",
       "    <tr>\n",
       "      <th>1034</th>\n",
       "      <td>6010_1_2</td>\n",
       "      <td>5</td>\n",
       "      <td>POLYGON ((0 0, 0.009169 0, 0.009169 -0.009042,...</td>\n",
       "    </tr>\n",
       "    <tr>\n",
       "      <th>1035</th>\n",
       "      <td>6010_1_2</td>\n",
       "      <td>6</td>\n",
       "      <td>POLYGON ((0 0, 0.009169 0, 0.009169 -0.009042,...</td>\n",
       "    </tr>\n",
       "    <tr>\n",
       "      <th>1036</th>\n",
       "      <td>6010_1_2</td>\n",
       "      <td>7</td>\n",
       "      <td>POLYGON ((0 0, 0.009169 0, 0.009169 -0.009042,...</td>\n",
       "    </tr>\n",
       "    <tr>\n",
       "      <th>1037</th>\n",
       "      <td>6010_1_2</td>\n",
       "      <td>8</td>\n",
       "      <td>POLYGON ((0 0, 0.009169 0, 0.009169 -0.009042,...</td>\n",
       "    </tr>\n",
       "    <tr>\n",
       "      <th>1038</th>\n",
       "      <td>6010_1_2</td>\n",
       "      <td>9</td>\n",
       "      <td>POLYGON ((0 0, 0.009169 0, 0.009169 -0.009042,...</td>\n",
       "    </tr>\n",
       "    <tr>\n",
       "      <th>1039</th>\n",
       "      <td>6010_1_2</td>\n",
       "      <td>10</td>\n",
       "      <td>POLYGON ((0 0, 0.009169 0, 0.009169 -0.009042,...</td>\n",
       "    </tr>\n",
       "  </tbody>\n",
       "</table>\n",
       "</div>"
      ],
      "text/plain": [
       "       ImageId  ClassType                                    MultipolygonWKT\n",
       "1030  6010_1_2          1  POLYGON ((0 0, 0.009169 0, 0.009169 -0.009042,...\n",
       "1031  6010_1_2          2  POLYGON ((0 0, 0.009169 0, 0.009169 -0.009042,...\n",
       "1032  6010_1_2          3  POLYGON ((0 0, 0.009169 0, 0.009169 -0.009042,...\n",
       "1033  6010_1_2          4  POLYGON ((0 0, 0.009169 0, 0.009169 -0.009042,...\n",
       "1034  6010_1_2          5  POLYGON ((0 0, 0.009169 0, 0.009169 -0.009042,...\n",
       "1035  6010_1_2          6  POLYGON ((0 0, 0.009169 0, 0.009169 -0.009042,...\n",
       "1036  6010_1_2          7  POLYGON ((0 0, 0.009169 0, 0.009169 -0.009042,...\n",
       "1037  6010_1_2          8  POLYGON ((0 0, 0.009169 0, 0.009169 -0.009042,...\n",
       "1038  6010_1_2          9  POLYGON ((0 0, 0.009169 0, 0.009169 -0.009042,...\n",
       "1039  6010_1_2         10  POLYGON ((0 0, 0.009169 0, 0.009169 -0.009042,..."
      ]
     },
     "execution_count": 19,
     "metadata": {},
     "output_type": "execute_result"
    }
   ],
   "source": [
    "subm_df[subm_df.ImageId == '6010_1_2']"
   ]
  },
  {
   "cell_type": "code",
   "execution_count": 27,
   "metadata": {},
   "outputs": [
    {
     "name": "stdout",
     "output_type": "stream",
     "text": [
      "      ImageId  ClassType                                    MultipolygonWKT\n",
      "210  6070_2_3          1  MULTIPOLYGON (((0.0045699999999998 -0.00904499...\n",
      "211  6070_2_3          2  MULTIPOLYGON (((0.0047860000000002 -0.00904499...\n",
      "212  6070_2_3          3  MULTIPOLYGON (((0.0057290000000002 -0.00798699...\n",
      "213  6070_2_3          4                                 MULTIPOLYGON EMPTY\n",
      "214  6070_2_3          5  MULTIPOLYGON (((0.007875999999999699 -0.009043...\n",
      "215  6070_2_3          6                                 MULTIPOLYGON EMPTY\n",
      "216  6070_2_3          7  MULTIPOLYGON (((0.0090125999999999 -0.00786559...\n",
      "217  6070_2_3          8  MULTIPOLYGON (((0.0011729999999996 -0.00854899...\n",
      "218  6070_2_3          9                                 MULTIPOLYGON EMPTY\n",
      "219  6070_2_3         10  MULTIPOLYGON (((0.0075799999999997 -0.00903299...\n",
      "      ImageId  ClassType                                    MultipolygonWKT\n",
      "220  6010_1_2          1                                 MULTIPOLYGON EMPTY\n",
      "221  6010_1_2          2  MULTIPOLYGON (((0.008926999999999999 -0.008574...\n",
      "222  6010_1_2          3                                 MULTIPOLYGON EMPTY\n",
      "223  6010_1_2          4  MULTIPOLYGON (((0.008765 -0.007289, 0.00885 -0...\n",
      "224  6010_1_2          5  MULTIPOLYGON (((0.007405 -0.009022000000000001...\n",
      "225  6010_1_2          6                                 MULTIPOLYGON EMPTY\n",
      "226  6010_1_2          7                                 MULTIPOLYGON EMPTY\n",
      "227  6010_1_2          8                                 MULTIPOLYGON EMPTY\n",
      "228  6010_1_2          9                                 MULTIPOLYGON EMPTY\n",
      "229  6010_1_2         10                                 MULTIPOLYGON EMPTY\n",
      "      ImageId  ClassType                                    MultipolygonWKT\n",
      "230  6040_4_4          1                                 MULTIPOLYGON EMPTY\n",
      "231  6040_4_4          2                                 MULTIPOLYGON EMPTY\n",
      "232  6040_4_4          3                                 MULTIPOLYGON EMPTY\n",
      "233  6040_4_4          4  MULTIPOLYGON (((0.0059084373000013 -0.00884575...\n",
      "234  6040_4_4          5  MULTIPOLYGON (((0.008953822000000699 -0.008981...\n",
      "235  6040_4_4          6                                 MULTIPOLYGON EMPTY\n",
      "236  6040_4_4          7                                 MULTIPOLYGON EMPTY\n",
      "237  6040_4_4          8                                 MULTIPOLYGON EMPTY\n",
      "238  6040_4_4          9                                 MULTIPOLYGON EMPTY\n",
      "239  6040_4_4         10                                 MULTIPOLYGON EMPTY\n",
      "      ImageId  ClassType                                    MultipolygonWKT\n",
      "240  6100_2_2          1  MULTIPOLYGON (((0.007676 -0.005554, 0.007721 -...\n",
      "241  6100_2_2          2  MULTIPOLYGON (((0.009129999999999999 -0.007036...\n",
      "242  6100_2_2          3  MULTIPOLYGON (((0.009155999999999999 -0.001717...\n",
      "243  6100_2_2          4  MULTIPOLYGON (((0.001933 -0.008625000000000001...\n",
      "244  6100_2_2          5  MULTIPOLYGON (((0.000247 -0.008847000000000001...\n",
      "245  6100_2_2          6  MULTIPOLYGON (((0.006102 -0.009042, 0.00642 -0...\n",
      "246  6100_2_2          7  MULTIPOLYGON (((0.007887999999999999 -0.009042...\n",
      "247  6100_2_2          8  MULTIPOLYGON (((0.002119 -0.001417, 0.002132 -...\n",
      "248  6100_2_2          9  MULTIPOLYGON (((0.008021 -0.003252, 0.00803399...\n",
      "249  6100_2_2         10  MULTIPOLYGON (((0.003194 -0.0089, 0.003201 -0....\n"
     ]
    }
   ],
   "source": [
    "for x in train_sub:\n",
    "    # print(subm_df[subm_df.ImageId == '6010_1_2'])\n",
    "    print(train_df[train_df.ImageId == x])\n"
   ]
  },
  {
   "cell_type": "code",
   "execution_count": 28,
   "metadata": {},
   "outputs": [
    {
     "data": {
      "text/plain": [
       "{'6010_1_2', '6040_4_4', '6070_2_3', '6100_2_2'}"
      ]
     },
     "execution_count": 28,
     "metadata": {},
     "output_type": "execute_result"
    }
   ],
   "source": [
    "train_sub"
   ]
  },
  {
   "cell_type": "code",
   "execution_count": 29,
   "metadata": {},
   "outputs": [
    {
     "name": "stdout",
     "output_type": "stream",
     "text": [
      "{'6070_2_3', '6010_1_2', '6040_4_4', '6100_2_2'}\n"
     ]
    }
   ],
   "source": [
    "train_df = pd.read_csv(TRAIN_WKT)\n",
    "subm_df = pd.read_csv(SAMPLE_SUBMISSION)\n",
    "train_images = train_images = train_df[\"ImageId\"].unique()\n",
    "submit_images = subm_df[\"ImageId\"].unique()\n",
    "train_sub = set(train_images).intersection(set(submit_images))\n",
    "print(train_sub)"
   ]
  },
  {
   "cell_type": "code",
   "execution_count": null,
   "metadata": {},
   "outputs": [],
   "source": []
  }
 ],
 "metadata": {
  "kernelspec": {
   "display_name": ".venv",
   "language": "python",
   "name": "python3"
  },
  "language_info": {
   "codemirror_mode": {
    "name": "ipython",
    "version": 3
   },
   "file_extension": ".py",
   "mimetype": "text/x-python",
   "name": "python",
   "nbconvert_exporter": "python",
   "pygments_lexer": "ipython3",
   "version": "3.11.3"
  },
  "orig_nbformat": 4
 },
 "nbformat": 4,
 "nbformat_minor": 2
}
