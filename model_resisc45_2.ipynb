{
 "cells": [
  {
   "attachments": {},
   "cell_type": "markdown",
   "metadata": {},
   "source": [
    "# Model RESISC45"
   ]
  },
  {
   "attachments": {},
   "cell_type": "markdown",
   "metadata": {},
   "source": [
    "## Train details\n",
    "- ResNet18 pretrained and fine-tune only last layer:\n",
    "    - weights are trained on IMAGENET1K_V1\n",
    "    - acc@1 (on ImageNet-1K): 69.758\n",
    "    - acc@5 (on ImageNet-1K): 89.078\n",
    "    - categories: tench, goldfish, great white shark, …\n",
    "    - 11.689.512 num params \n",
    "    - 1.81 GFLOPS \n",
    "    - File size: 44.7 MB\n",
    "- dataset RESISC45\n",
    "- 45 classes (all from dataset)\n",
    "- cross-entropy optimizer\n",
    "- SGD (stochastic gradient descent) with learning rate 0.001 and momentum 0.9\n",
    "- dataset split in 5 folds\n",
    "- model input resolution: 3 x 224 x 244\n",
    "- image transforms at train (augmentations): \n",
    "    - random resized crop at 224 x 224 resolution (from original 256 x 256)\n",
    "    - random horizontal flip\n",
    "    - normalize with mean [0.485, 0.456, 0.406] and std [0.229, 0.224, 0.225]\n",
    "- image transforms at validation:\n",
    "    - central crop at 224 x 224 resolution (from original 256 x 256)\n",
    "    - normalize with mean [0.485, 0.456, 0.406] and std [0.229, 0.224, 0.225]\n",
    "- number of trained epochs: 15\n",
    "- batch size of 32"
   ]
  },
  {
   "cell_type": "code",
   "execution_count": null,
   "metadata": {},
   "outputs": [],
   "source": [
    "from utils import train_pretrained_resnet, TrainConfig, plot_validation_epochs"
   ]
  },
  {
   "attachments": {},
   "cell_type": "markdown",
   "metadata": {},
   "source": [
    "## Cross validation"
   ]
  },
  {
   "cell_type": "code",
   "execution_count": null,
   "metadata": {},
   "outputs": [],
   "source": [
    "print(\"Start.\")\n",
    "\n",
    "for val_fold in range(5):\n",
    "    results = train_pretrained_resnet(\n",
    "        TrainConfig(\n",
    "            dataset_file=\"dataset_resisc45.csv\",\n",
    "            num_epochs=15,\n",
    "            batch_size=32,\n",
    "            val_fold=val_fold,\n",
    "        )\n",
    "    )\n",
    "    \n",
    "    plot_validation_epochs(15, result.train_losses, result.val_losses, fold=val_fold)\n",
    "\n",
    "print(\"Done.\")"
   ]
  },
  {
   "cell_type": "code",
   "execution_count": null,
   "metadata": {},
   "outputs": [],
   "source": []
  }
 ],
 "metadata": {
  "kernelspec": {
   "display_name": ".venv",
   "language": "python",
   "name": "python3"
  },
  "language_info": {
   "codemirror_mode": {
    "name": "ipython",
    "version": 3
   },
   "file_extension": ".py",
   "mimetype": "text/x-python",
   "name": "python",
   "nbconvert_exporter": "python",
   "pygments_lexer": "ipython3",
   "version": "3.11.3"
  },
  "orig_nbformat": 4
 },
 "nbformat": 4,
 "nbformat_minor": 2
}
